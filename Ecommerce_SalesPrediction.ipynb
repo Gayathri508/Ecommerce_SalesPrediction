{
  "nbformat": 4,
  "nbformat_minor": 0,
  "metadata": {
    "colab": {
      "name": "Ecommerce_SalesPrediction.ipynb",
      "provenance": []
    },
    "kernelspec": {
      "name": "python3",
      "display_name": "Python 3"
    }
  },
  "cells": [
    {
      "cell_type": "code",
      "metadata": {
        "id": "joirW-Zg1kiA",
        "colab_type": "code",
        "outputId": "a3b88a41-bceb-4ced-bfb5-8ce3d49dfce2",
        "colab": {
          "base_uri": "https://localhost:8080/",
          "height": 122
        }
      },
      "source": [
        "from google.colab import drive\n",
        "drive.mount('/content/drive')"
      ],
      "execution_count": 3,
      "outputs": [
        {
          "output_type": "stream",
          "text": [
            "Go to this URL in a browser: https://accounts.google.com/o/oauth2/auth?client_id=947318989803-6bn6qk8qdgf4n4g3pfee6491hc0brc4i.apps.googleusercontent.com&redirect_uri=urn%3aietf%3awg%3aoauth%3a2.0%3aoob&response_type=code&scope=email%20https%3a%2f%2fwww.googleapis.com%2fauth%2fdocs.test%20https%3a%2f%2fwww.googleapis.com%2fauth%2fdrive%20https%3a%2f%2fwww.googleapis.com%2fauth%2fdrive.photos.readonly%20https%3a%2f%2fwww.googleapis.com%2fauth%2fpeopleapi.readonly\n",
            "\n",
            "Enter your authorization code:\n",
            "··········\n",
            "Mounted at /content/drive\n"
          ],
          "name": "stdout"
        }
      ]
    },
    {
      "cell_type": "code",
      "metadata": {
        "id": "3f3lU6na2AYg",
        "colab_type": "code",
        "colab": {}
      },
      "source": [
        "import numpy as np\n",
        "import pandas as pd\n",
        "from matplotlib import pyplot as plt"
      ],
      "execution_count": 0,
      "outputs": []
    },
    {
      "cell_type": "code",
      "metadata": {
        "id": "6TxcnRaG2ARz",
        "colab_type": "code",
        "colab": {}
      },
      "source": [
        "data=pd.read_excel('/content/drive/My Drive/Online Retail.xlsx')"
      ],
      "execution_count": 0,
      "outputs": []
    },
    {
      "cell_type": "code",
      "metadata": {
        "id": "pk-EPlwh2AOr",
        "colab_type": "code",
        "outputId": "fc0905ea-4dae-46ac-ee88-19e9fd8a028b",
        "colab": {
          "base_uri": "https://localhost:8080/",
          "height": 669
        }
      },
      "source": [
        "data.head(20)"
      ],
      "execution_count": 6,
      "outputs": [
        {
          "output_type": "execute_result",
          "data": {
            "text/html": [
              "<div>\n",
              "<style scoped>\n",
              "    .dataframe tbody tr th:only-of-type {\n",
              "        vertical-align: middle;\n",
              "    }\n",
              "\n",
              "    .dataframe tbody tr th {\n",
              "        vertical-align: top;\n",
              "    }\n",
              "\n",
              "    .dataframe thead th {\n",
              "        text-align: right;\n",
              "    }\n",
              "</style>\n",
              "<table border=\"1\" class=\"dataframe\">\n",
              "  <thead>\n",
              "    <tr style=\"text-align: right;\">\n",
              "      <th></th>\n",
              "      <th>InvoiceNo</th>\n",
              "      <th>StockCode</th>\n",
              "      <th>Description</th>\n",
              "      <th>Quantity</th>\n",
              "      <th>InvoiceDate</th>\n",
              "      <th>UnitPrice</th>\n",
              "      <th>CustomerID</th>\n",
              "      <th>Country</th>\n",
              "    </tr>\n",
              "  </thead>\n",
              "  <tbody>\n",
              "    <tr>\n",
              "      <th>0</th>\n",
              "      <td>536365</td>\n",
              "      <td>85123A</td>\n",
              "      <td>WHITE HANGING HEART T-LIGHT HOLDER</td>\n",
              "      <td>6</td>\n",
              "      <td>2010-12-01 08:26:00</td>\n",
              "      <td>2.55</td>\n",
              "      <td>17850.0</td>\n",
              "      <td>United Kingdom</td>\n",
              "    </tr>\n",
              "    <tr>\n",
              "      <th>1</th>\n",
              "      <td>536365</td>\n",
              "      <td>71053</td>\n",
              "      <td>WHITE METAL LANTERN</td>\n",
              "      <td>6</td>\n",
              "      <td>2010-12-01 08:26:00</td>\n",
              "      <td>3.39</td>\n",
              "      <td>17850.0</td>\n",
              "      <td>United Kingdom</td>\n",
              "    </tr>\n",
              "    <tr>\n",
              "      <th>2</th>\n",
              "      <td>536365</td>\n",
              "      <td>84406B</td>\n",
              "      <td>CREAM CUPID HEARTS COAT HANGER</td>\n",
              "      <td>8</td>\n",
              "      <td>2010-12-01 08:26:00</td>\n",
              "      <td>2.75</td>\n",
              "      <td>17850.0</td>\n",
              "      <td>United Kingdom</td>\n",
              "    </tr>\n",
              "    <tr>\n",
              "      <th>3</th>\n",
              "      <td>536365</td>\n",
              "      <td>84029G</td>\n",
              "      <td>KNITTED UNION FLAG HOT WATER BOTTLE</td>\n",
              "      <td>6</td>\n",
              "      <td>2010-12-01 08:26:00</td>\n",
              "      <td>3.39</td>\n",
              "      <td>17850.0</td>\n",
              "      <td>United Kingdom</td>\n",
              "    </tr>\n",
              "    <tr>\n",
              "      <th>4</th>\n",
              "      <td>536365</td>\n",
              "      <td>84029E</td>\n",
              "      <td>RED WOOLLY HOTTIE WHITE HEART.</td>\n",
              "      <td>6</td>\n",
              "      <td>2010-12-01 08:26:00</td>\n",
              "      <td>3.39</td>\n",
              "      <td>17850.0</td>\n",
              "      <td>United Kingdom</td>\n",
              "    </tr>\n",
              "    <tr>\n",
              "      <th>5</th>\n",
              "      <td>536365</td>\n",
              "      <td>22752</td>\n",
              "      <td>SET 7 BABUSHKA NESTING BOXES</td>\n",
              "      <td>2</td>\n",
              "      <td>2010-12-01 08:26:00</td>\n",
              "      <td>7.65</td>\n",
              "      <td>17850.0</td>\n",
              "      <td>United Kingdom</td>\n",
              "    </tr>\n",
              "    <tr>\n",
              "      <th>6</th>\n",
              "      <td>536365</td>\n",
              "      <td>21730</td>\n",
              "      <td>GLASS STAR FROSTED T-LIGHT HOLDER</td>\n",
              "      <td>6</td>\n",
              "      <td>2010-12-01 08:26:00</td>\n",
              "      <td>4.25</td>\n",
              "      <td>17850.0</td>\n",
              "      <td>United Kingdom</td>\n",
              "    </tr>\n",
              "    <tr>\n",
              "      <th>7</th>\n",
              "      <td>536366</td>\n",
              "      <td>22633</td>\n",
              "      <td>HAND WARMER UNION JACK</td>\n",
              "      <td>6</td>\n",
              "      <td>2010-12-01 08:28:00</td>\n",
              "      <td>1.85</td>\n",
              "      <td>17850.0</td>\n",
              "      <td>United Kingdom</td>\n",
              "    </tr>\n",
              "    <tr>\n",
              "      <th>8</th>\n",
              "      <td>536366</td>\n",
              "      <td>22632</td>\n",
              "      <td>HAND WARMER RED POLKA DOT</td>\n",
              "      <td>6</td>\n",
              "      <td>2010-12-01 08:28:00</td>\n",
              "      <td>1.85</td>\n",
              "      <td>17850.0</td>\n",
              "      <td>United Kingdom</td>\n",
              "    </tr>\n",
              "    <tr>\n",
              "      <th>9</th>\n",
              "      <td>536367</td>\n",
              "      <td>84879</td>\n",
              "      <td>ASSORTED COLOUR BIRD ORNAMENT</td>\n",
              "      <td>32</td>\n",
              "      <td>2010-12-01 08:34:00</td>\n",
              "      <td>1.69</td>\n",
              "      <td>13047.0</td>\n",
              "      <td>United Kingdom</td>\n",
              "    </tr>\n",
              "    <tr>\n",
              "      <th>10</th>\n",
              "      <td>536367</td>\n",
              "      <td>22745</td>\n",
              "      <td>POPPY'S PLAYHOUSE BEDROOM</td>\n",
              "      <td>6</td>\n",
              "      <td>2010-12-01 08:34:00</td>\n",
              "      <td>2.10</td>\n",
              "      <td>13047.0</td>\n",
              "      <td>United Kingdom</td>\n",
              "    </tr>\n",
              "    <tr>\n",
              "      <th>11</th>\n",
              "      <td>536367</td>\n",
              "      <td>22748</td>\n",
              "      <td>POPPY'S PLAYHOUSE KITCHEN</td>\n",
              "      <td>6</td>\n",
              "      <td>2010-12-01 08:34:00</td>\n",
              "      <td>2.10</td>\n",
              "      <td>13047.0</td>\n",
              "      <td>United Kingdom</td>\n",
              "    </tr>\n",
              "    <tr>\n",
              "      <th>12</th>\n",
              "      <td>536367</td>\n",
              "      <td>22749</td>\n",
              "      <td>FELTCRAFT PRINCESS CHARLOTTE DOLL</td>\n",
              "      <td>8</td>\n",
              "      <td>2010-12-01 08:34:00</td>\n",
              "      <td>3.75</td>\n",
              "      <td>13047.0</td>\n",
              "      <td>United Kingdom</td>\n",
              "    </tr>\n",
              "    <tr>\n",
              "      <th>13</th>\n",
              "      <td>536367</td>\n",
              "      <td>22310</td>\n",
              "      <td>IVORY KNITTED MUG COSY</td>\n",
              "      <td>6</td>\n",
              "      <td>2010-12-01 08:34:00</td>\n",
              "      <td>1.65</td>\n",
              "      <td>13047.0</td>\n",
              "      <td>United Kingdom</td>\n",
              "    </tr>\n",
              "    <tr>\n",
              "      <th>14</th>\n",
              "      <td>536367</td>\n",
              "      <td>84969</td>\n",
              "      <td>BOX OF 6 ASSORTED COLOUR TEASPOONS</td>\n",
              "      <td>6</td>\n",
              "      <td>2010-12-01 08:34:00</td>\n",
              "      <td>4.25</td>\n",
              "      <td>13047.0</td>\n",
              "      <td>United Kingdom</td>\n",
              "    </tr>\n",
              "    <tr>\n",
              "      <th>15</th>\n",
              "      <td>536367</td>\n",
              "      <td>22623</td>\n",
              "      <td>BOX OF VINTAGE JIGSAW BLOCKS</td>\n",
              "      <td>3</td>\n",
              "      <td>2010-12-01 08:34:00</td>\n",
              "      <td>4.95</td>\n",
              "      <td>13047.0</td>\n",
              "      <td>United Kingdom</td>\n",
              "    </tr>\n",
              "    <tr>\n",
              "      <th>16</th>\n",
              "      <td>536367</td>\n",
              "      <td>22622</td>\n",
              "      <td>BOX OF VINTAGE ALPHABET BLOCKS</td>\n",
              "      <td>2</td>\n",
              "      <td>2010-12-01 08:34:00</td>\n",
              "      <td>9.95</td>\n",
              "      <td>13047.0</td>\n",
              "      <td>United Kingdom</td>\n",
              "    </tr>\n",
              "    <tr>\n",
              "      <th>17</th>\n",
              "      <td>536367</td>\n",
              "      <td>21754</td>\n",
              "      <td>HOME BUILDING BLOCK WORD</td>\n",
              "      <td>3</td>\n",
              "      <td>2010-12-01 08:34:00</td>\n",
              "      <td>5.95</td>\n",
              "      <td>13047.0</td>\n",
              "      <td>United Kingdom</td>\n",
              "    </tr>\n",
              "    <tr>\n",
              "      <th>18</th>\n",
              "      <td>536367</td>\n",
              "      <td>21755</td>\n",
              "      <td>LOVE BUILDING BLOCK WORD</td>\n",
              "      <td>3</td>\n",
              "      <td>2010-12-01 08:34:00</td>\n",
              "      <td>5.95</td>\n",
              "      <td>13047.0</td>\n",
              "      <td>United Kingdom</td>\n",
              "    </tr>\n",
              "    <tr>\n",
              "      <th>19</th>\n",
              "      <td>536367</td>\n",
              "      <td>21777</td>\n",
              "      <td>RECIPE BOX WITH METAL HEART</td>\n",
              "      <td>4</td>\n",
              "      <td>2010-12-01 08:34:00</td>\n",
              "      <td>7.95</td>\n",
              "      <td>13047.0</td>\n",
              "      <td>United Kingdom</td>\n",
              "    </tr>\n",
              "  </tbody>\n",
              "</table>\n",
              "</div>"
            ],
            "text/plain": [
              "   InvoiceNo StockCode  ... CustomerID         Country\n",
              "0     536365    85123A  ...    17850.0  United Kingdom\n",
              "1     536365     71053  ...    17850.0  United Kingdom\n",
              "2     536365    84406B  ...    17850.0  United Kingdom\n",
              "3     536365    84029G  ...    17850.0  United Kingdom\n",
              "4     536365    84029E  ...    17850.0  United Kingdom\n",
              "5     536365     22752  ...    17850.0  United Kingdom\n",
              "6     536365     21730  ...    17850.0  United Kingdom\n",
              "7     536366     22633  ...    17850.0  United Kingdom\n",
              "8     536366     22632  ...    17850.0  United Kingdom\n",
              "9     536367     84879  ...    13047.0  United Kingdom\n",
              "10    536367     22745  ...    13047.0  United Kingdom\n",
              "11    536367     22748  ...    13047.0  United Kingdom\n",
              "12    536367     22749  ...    13047.0  United Kingdom\n",
              "13    536367     22310  ...    13047.0  United Kingdom\n",
              "14    536367     84969  ...    13047.0  United Kingdom\n",
              "15    536367     22623  ...    13047.0  United Kingdom\n",
              "16    536367     22622  ...    13047.0  United Kingdom\n",
              "17    536367     21754  ...    13047.0  United Kingdom\n",
              "18    536367     21755  ...    13047.0  United Kingdom\n",
              "19    536367     21777  ...    13047.0  United Kingdom\n",
              "\n",
              "[20 rows x 8 columns]"
            ]
          },
          "metadata": {
            "tags": []
          },
          "execution_count": 6
        }
      ]
    },
    {
      "cell_type": "code",
      "metadata": {
        "id": "8sekwf2f2ALf",
        "colab_type": "code",
        "outputId": "550cde3c-beca-4c52-8222-6f1b7dc149ec",
        "colab": {
          "base_uri": "https://localhost:8080/",
          "height": 34
        }
      },
      "source": [
        "data.shape"
      ],
      "execution_count": 0,
      "outputs": [
        {
          "output_type": "execute_result",
          "data": {
            "text/plain": [
              "(541909, 8)"
            ]
          },
          "metadata": {
            "tags": []
          },
          "execution_count": 5
        }
      ]
    },
    {
      "cell_type": "code",
      "metadata": {
        "id": "MJSYAdID2AIM",
        "colab_type": "code",
        "outputId": "e91de347-6d6a-4a7e-8167-9a415f827109",
        "colab": {
          "base_uri": "https://localhost:8080/",
          "height": 272
        }
      },
      "source": [
        "data.info()"
      ],
      "execution_count": 7,
      "outputs": [
        {
          "output_type": "stream",
          "text": [
            "<class 'pandas.core.frame.DataFrame'>\n",
            "RangeIndex: 541909 entries, 0 to 541908\n",
            "Data columns (total 8 columns):\n",
            " #   Column       Non-Null Count   Dtype         \n",
            "---  ------       --------------   -----         \n",
            " 0   InvoiceNo    541909 non-null  object        \n",
            " 1   StockCode    541909 non-null  object        \n",
            " 2   Description  540455 non-null  object        \n",
            " 3   Quantity     541909 non-null  int64         \n",
            " 4   InvoiceDate  541909 non-null  datetime64[ns]\n",
            " 5   UnitPrice    541909 non-null  float64       \n",
            " 6   CustomerID   406829 non-null  float64       \n",
            " 7   Country      541909 non-null  object        \n",
            "dtypes: datetime64[ns](1), float64(2), int64(1), object(4)\n",
            "memory usage: 33.1+ MB\n"
          ],
          "name": "stdout"
        }
      ]
    },
    {
      "cell_type": "code",
      "metadata": {
        "id": "rlaTNNSv2AEh",
        "colab_type": "code",
        "outputId": "e3de333e-a3ab-47bc-f6f2-56ee59140003",
        "colab": {
          "base_uri": "https://localhost:8080/",
          "height": 170
        }
      },
      "source": [
        "data.isnull().sum()"
      ],
      "execution_count": 8,
      "outputs": [
        {
          "output_type": "execute_result",
          "data": {
            "text/plain": [
              "InvoiceNo           0\n",
              "StockCode           0\n",
              "Description      1454\n",
              "Quantity            0\n",
              "InvoiceDate         0\n",
              "UnitPrice           0\n",
              "CustomerID     135080\n",
              "Country             0\n",
              "dtype: int64"
            ]
          },
          "metadata": {
            "tags": []
          },
          "execution_count": 8
        }
      ]
    },
    {
      "cell_type": "code",
      "metadata": {
        "id": "b7MW-sWO2ABW",
        "colab_type": "code",
        "outputId": "ba7d17bc-4726-4497-ba48-8c47e9caf798",
        "colab": {
          "base_uri": "https://localhost:8080/",
          "height": 297
        }
      },
      "source": [
        "data.describe()"
      ],
      "execution_count": 9,
      "outputs": [
        {
          "output_type": "execute_result",
          "data": {
            "text/html": [
              "<div>\n",
              "<style scoped>\n",
              "    .dataframe tbody tr th:only-of-type {\n",
              "        vertical-align: middle;\n",
              "    }\n",
              "\n",
              "    .dataframe tbody tr th {\n",
              "        vertical-align: top;\n",
              "    }\n",
              "\n",
              "    .dataframe thead th {\n",
              "        text-align: right;\n",
              "    }\n",
              "</style>\n",
              "<table border=\"1\" class=\"dataframe\">\n",
              "  <thead>\n",
              "    <tr style=\"text-align: right;\">\n",
              "      <th></th>\n",
              "      <th>Quantity</th>\n",
              "      <th>UnitPrice</th>\n",
              "      <th>CustomerID</th>\n",
              "    </tr>\n",
              "  </thead>\n",
              "  <tbody>\n",
              "    <tr>\n",
              "      <th>count</th>\n",
              "      <td>541909.000000</td>\n",
              "      <td>541909.000000</td>\n",
              "      <td>406829.000000</td>\n",
              "    </tr>\n",
              "    <tr>\n",
              "      <th>mean</th>\n",
              "      <td>9.552250</td>\n",
              "      <td>4.611114</td>\n",
              "      <td>15287.690570</td>\n",
              "    </tr>\n",
              "    <tr>\n",
              "      <th>std</th>\n",
              "      <td>218.081158</td>\n",
              "      <td>96.759853</td>\n",
              "      <td>1713.600303</td>\n",
              "    </tr>\n",
              "    <tr>\n",
              "      <th>min</th>\n",
              "      <td>-80995.000000</td>\n",
              "      <td>-11062.060000</td>\n",
              "      <td>12346.000000</td>\n",
              "    </tr>\n",
              "    <tr>\n",
              "      <th>25%</th>\n",
              "      <td>1.000000</td>\n",
              "      <td>1.250000</td>\n",
              "      <td>13953.000000</td>\n",
              "    </tr>\n",
              "    <tr>\n",
              "      <th>50%</th>\n",
              "      <td>3.000000</td>\n",
              "      <td>2.080000</td>\n",
              "      <td>15152.000000</td>\n",
              "    </tr>\n",
              "    <tr>\n",
              "      <th>75%</th>\n",
              "      <td>10.000000</td>\n",
              "      <td>4.130000</td>\n",
              "      <td>16791.000000</td>\n",
              "    </tr>\n",
              "    <tr>\n",
              "      <th>max</th>\n",
              "      <td>80995.000000</td>\n",
              "      <td>38970.000000</td>\n",
              "      <td>18287.000000</td>\n",
              "    </tr>\n",
              "  </tbody>\n",
              "</table>\n",
              "</div>"
            ],
            "text/plain": [
              "            Quantity      UnitPrice     CustomerID\n",
              "count  541909.000000  541909.000000  406829.000000\n",
              "mean        9.552250       4.611114   15287.690570\n",
              "std       218.081158      96.759853    1713.600303\n",
              "min    -80995.000000  -11062.060000   12346.000000\n",
              "25%         1.000000       1.250000   13953.000000\n",
              "50%         3.000000       2.080000   15152.000000\n",
              "75%        10.000000       4.130000   16791.000000\n",
              "max     80995.000000   38970.000000   18287.000000"
            ]
          },
          "metadata": {
            "tags": []
          },
          "execution_count": 9
        }
      ]
    },
    {
      "cell_type": "code",
      "metadata": {
        "id": "gosEcAIRAeG-",
        "colab_type": "code",
        "outputId": "3b78ad5a-6e1d-4c6b-e3ee-aa6e8e05a3cc",
        "colab": {
          "base_uri": "https://localhost:8080/",
          "height": 979
        }
      },
      "source": [
        "data[data.Description.isna()].head(30)"
      ],
      "execution_count": 10,
      "outputs": [
        {
          "output_type": "execute_result",
          "data": {
            "text/html": [
              "<div>\n",
              "<style scoped>\n",
              "    .dataframe tbody tr th:only-of-type {\n",
              "        vertical-align: middle;\n",
              "    }\n",
              "\n",
              "    .dataframe tbody tr th {\n",
              "        vertical-align: top;\n",
              "    }\n",
              "\n",
              "    .dataframe thead th {\n",
              "        text-align: right;\n",
              "    }\n",
              "</style>\n",
              "<table border=\"1\" class=\"dataframe\">\n",
              "  <thead>\n",
              "    <tr style=\"text-align: right;\">\n",
              "      <th></th>\n",
              "      <th>InvoiceNo</th>\n",
              "      <th>StockCode</th>\n",
              "      <th>Description</th>\n",
              "      <th>Quantity</th>\n",
              "      <th>InvoiceDate</th>\n",
              "      <th>UnitPrice</th>\n",
              "      <th>CustomerID</th>\n",
              "      <th>Country</th>\n",
              "    </tr>\n",
              "  </thead>\n",
              "  <tbody>\n",
              "    <tr>\n",
              "      <th>622</th>\n",
              "      <td>536414</td>\n",
              "      <td>22139</td>\n",
              "      <td>NaN</td>\n",
              "      <td>56</td>\n",
              "      <td>2010-12-01 11:52:00</td>\n",
              "      <td>0.0</td>\n",
              "      <td>NaN</td>\n",
              "      <td>United Kingdom</td>\n",
              "    </tr>\n",
              "    <tr>\n",
              "      <th>1970</th>\n",
              "      <td>536545</td>\n",
              "      <td>21134</td>\n",
              "      <td>NaN</td>\n",
              "      <td>1</td>\n",
              "      <td>2010-12-01 14:32:00</td>\n",
              "      <td>0.0</td>\n",
              "      <td>NaN</td>\n",
              "      <td>United Kingdom</td>\n",
              "    </tr>\n",
              "    <tr>\n",
              "      <th>1971</th>\n",
              "      <td>536546</td>\n",
              "      <td>22145</td>\n",
              "      <td>NaN</td>\n",
              "      <td>1</td>\n",
              "      <td>2010-12-01 14:33:00</td>\n",
              "      <td>0.0</td>\n",
              "      <td>NaN</td>\n",
              "      <td>United Kingdom</td>\n",
              "    </tr>\n",
              "    <tr>\n",
              "      <th>1972</th>\n",
              "      <td>536547</td>\n",
              "      <td>37509</td>\n",
              "      <td>NaN</td>\n",
              "      <td>1</td>\n",
              "      <td>2010-12-01 14:33:00</td>\n",
              "      <td>0.0</td>\n",
              "      <td>NaN</td>\n",
              "      <td>United Kingdom</td>\n",
              "    </tr>\n",
              "    <tr>\n",
              "      <th>1987</th>\n",
              "      <td>536549</td>\n",
              "      <td>85226A</td>\n",
              "      <td>NaN</td>\n",
              "      <td>1</td>\n",
              "      <td>2010-12-01 14:34:00</td>\n",
              "      <td>0.0</td>\n",
              "      <td>NaN</td>\n",
              "      <td>United Kingdom</td>\n",
              "    </tr>\n",
              "    <tr>\n",
              "      <th>1988</th>\n",
              "      <td>536550</td>\n",
              "      <td>85044</td>\n",
              "      <td>NaN</td>\n",
              "      <td>1</td>\n",
              "      <td>2010-12-01 14:34:00</td>\n",
              "      <td>0.0</td>\n",
              "      <td>NaN</td>\n",
              "      <td>United Kingdom</td>\n",
              "    </tr>\n",
              "    <tr>\n",
              "      <th>2024</th>\n",
              "      <td>536552</td>\n",
              "      <td>20950</td>\n",
              "      <td>NaN</td>\n",
              "      <td>1</td>\n",
              "      <td>2010-12-01 14:34:00</td>\n",
              "      <td>0.0</td>\n",
              "      <td>NaN</td>\n",
              "      <td>United Kingdom</td>\n",
              "    </tr>\n",
              "    <tr>\n",
              "      <th>2025</th>\n",
              "      <td>536553</td>\n",
              "      <td>37461</td>\n",
              "      <td>NaN</td>\n",
              "      <td>3</td>\n",
              "      <td>2010-12-01 14:35:00</td>\n",
              "      <td>0.0</td>\n",
              "      <td>NaN</td>\n",
              "      <td>United Kingdom</td>\n",
              "    </tr>\n",
              "    <tr>\n",
              "      <th>2026</th>\n",
              "      <td>536554</td>\n",
              "      <td>84670</td>\n",
              "      <td>NaN</td>\n",
              "      <td>23</td>\n",
              "      <td>2010-12-01 14:35:00</td>\n",
              "      <td>0.0</td>\n",
              "      <td>NaN</td>\n",
              "      <td>United Kingdom</td>\n",
              "    </tr>\n",
              "    <tr>\n",
              "      <th>2406</th>\n",
              "      <td>536589</td>\n",
              "      <td>21777</td>\n",
              "      <td>NaN</td>\n",
              "      <td>-10</td>\n",
              "      <td>2010-12-01 16:50:00</td>\n",
              "      <td>0.0</td>\n",
              "      <td>NaN</td>\n",
              "      <td>United Kingdom</td>\n",
              "    </tr>\n",
              "    <tr>\n",
              "      <th>4347</th>\n",
              "      <td>536764</td>\n",
              "      <td>84952C</td>\n",
              "      <td>NaN</td>\n",
              "      <td>-38</td>\n",
              "      <td>2010-12-02 14:42:00</td>\n",
              "      <td>0.0</td>\n",
              "      <td>NaN</td>\n",
              "      <td>United Kingdom</td>\n",
              "    </tr>\n",
              "    <tr>\n",
              "      <th>4348</th>\n",
              "      <td>536765</td>\n",
              "      <td>84952C</td>\n",
              "      <td>NaN</td>\n",
              "      <td>19</td>\n",
              "      <td>2010-12-02 14:43:00</td>\n",
              "      <td>0.0</td>\n",
              "      <td>NaN</td>\n",
              "      <td>United Kingdom</td>\n",
              "    </tr>\n",
              "    <tr>\n",
              "      <th>7187</th>\n",
              "      <td>536995</td>\n",
              "      <td>35951</td>\n",
              "      <td>NaN</td>\n",
              "      <td>57</td>\n",
              "      <td>2010-12-03 15:29:00</td>\n",
              "      <td>0.0</td>\n",
              "      <td>NaN</td>\n",
              "      <td>United Kingdom</td>\n",
              "    </tr>\n",
              "    <tr>\n",
              "      <th>7188</th>\n",
              "      <td>536996</td>\n",
              "      <td>22712</td>\n",
              "      <td>NaN</td>\n",
              "      <td>-20</td>\n",
              "      <td>2010-12-03 15:30:00</td>\n",
              "      <td>0.0</td>\n",
              "      <td>NaN</td>\n",
              "      <td>United Kingdom</td>\n",
              "    </tr>\n",
              "    <tr>\n",
              "      <th>7189</th>\n",
              "      <td>536997</td>\n",
              "      <td>22028</td>\n",
              "      <td>NaN</td>\n",
              "      <td>-20</td>\n",
              "      <td>2010-12-03 15:30:00</td>\n",
              "      <td>0.0</td>\n",
              "      <td>NaN</td>\n",
              "      <td>United Kingdom</td>\n",
              "    </tr>\n",
              "    <tr>\n",
              "      <th>7190</th>\n",
              "      <td>536998</td>\n",
              "      <td>85067</td>\n",
              "      <td>NaN</td>\n",
              "      <td>-6</td>\n",
              "      <td>2010-12-03 15:30:00</td>\n",
              "      <td>0.0</td>\n",
              "      <td>NaN</td>\n",
              "      <td>United Kingdom</td>\n",
              "    </tr>\n",
              "    <tr>\n",
              "      <th>7191</th>\n",
              "      <td>536999</td>\n",
              "      <td>21421</td>\n",
              "      <td>NaN</td>\n",
              "      <td>110</td>\n",
              "      <td>2010-12-03 15:32:00</td>\n",
              "      <td>0.0</td>\n",
              "      <td>NaN</td>\n",
              "      <td>United Kingdom</td>\n",
              "    </tr>\n",
              "    <tr>\n",
              "      <th>7192</th>\n",
              "      <td>537000</td>\n",
              "      <td>21414</td>\n",
              "      <td>NaN</td>\n",
              "      <td>-22</td>\n",
              "      <td>2010-12-03 15:32:00</td>\n",
              "      <td>0.0</td>\n",
              "      <td>NaN</td>\n",
              "      <td>United Kingdom</td>\n",
              "    </tr>\n",
              "    <tr>\n",
              "      <th>7193</th>\n",
              "      <td>537001</td>\n",
              "      <td>21653</td>\n",
              "      <td>NaN</td>\n",
              "      <td>-6</td>\n",
              "      <td>2010-12-03 15:33:00</td>\n",
              "      <td>0.0</td>\n",
              "      <td>NaN</td>\n",
              "      <td>United Kingdom</td>\n",
              "    </tr>\n",
              "    <tr>\n",
              "      <th>7194</th>\n",
              "      <td>537002</td>\n",
              "      <td>21651</td>\n",
              "      <td>NaN</td>\n",
              "      <td>70</td>\n",
              "      <td>2010-12-03 15:33:00</td>\n",
              "      <td>0.0</td>\n",
              "      <td>NaN</td>\n",
              "      <td>United Kingdom</td>\n",
              "    </tr>\n",
              "    <tr>\n",
              "      <th>7195</th>\n",
              "      <td>537003</td>\n",
              "      <td>85126</td>\n",
              "      <td>NaN</td>\n",
              "      <td>-2</td>\n",
              "      <td>2010-12-03 15:33:00</td>\n",
              "      <td>0.0</td>\n",
              "      <td>NaN</td>\n",
              "      <td>United Kingdom</td>\n",
              "    </tr>\n",
              "    <tr>\n",
              "      <th>7196</th>\n",
              "      <td>537004</td>\n",
              "      <td>21814</td>\n",
              "      <td>NaN</td>\n",
              "      <td>-30</td>\n",
              "      <td>2010-12-03 15:34:00</td>\n",
              "      <td>0.0</td>\n",
              "      <td>NaN</td>\n",
              "      <td>United Kingdom</td>\n",
              "    </tr>\n",
              "    <tr>\n",
              "      <th>7197</th>\n",
              "      <td>537005</td>\n",
              "      <td>21692</td>\n",
              "      <td>NaN</td>\n",
              "      <td>-70</td>\n",
              "      <td>2010-12-03 15:35:00</td>\n",
              "      <td>0.0</td>\n",
              "      <td>NaN</td>\n",
              "      <td>United Kingdom</td>\n",
              "    </tr>\n",
              "    <tr>\n",
              "      <th>7198</th>\n",
              "      <td>537006</td>\n",
              "      <td>21648</td>\n",
              "      <td>NaN</td>\n",
              "      <td>-130</td>\n",
              "      <td>2010-12-03 15:36:00</td>\n",
              "      <td>0.0</td>\n",
              "      <td>NaN</td>\n",
              "      <td>United Kingdom</td>\n",
              "    </tr>\n",
              "    <tr>\n",
              "      <th>7199</th>\n",
              "      <td>537007</td>\n",
              "      <td>21172</td>\n",
              "      <td>NaN</td>\n",
              "      <td>-80</td>\n",
              "      <td>2010-12-03 15:36:00</td>\n",
              "      <td>0.0</td>\n",
              "      <td>NaN</td>\n",
              "      <td>United Kingdom</td>\n",
              "    </tr>\n",
              "    <tr>\n",
              "      <th>7200</th>\n",
              "      <td>537008</td>\n",
              "      <td>21161</td>\n",
              "      <td>NaN</td>\n",
              "      <td>-120</td>\n",
              "      <td>2010-12-03 15:37:00</td>\n",
              "      <td>0.0</td>\n",
              "      <td>NaN</td>\n",
              "      <td>United Kingdom</td>\n",
              "    </tr>\n",
              "    <tr>\n",
              "      <th>7201</th>\n",
              "      <td>537009</td>\n",
              "      <td>84534B</td>\n",
              "      <td>NaN</td>\n",
              "      <td>-80</td>\n",
              "      <td>2010-12-03 15:38:00</td>\n",
              "      <td>0.0</td>\n",
              "      <td>NaN</td>\n",
              "      <td>United Kingdom</td>\n",
              "    </tr>\n",
              "    <tr>\n",
              "      <th>7202</th>\n",
              "      <td>537010</td>\n",
              "      <td>22162</td>\n",
              "      <td>NaN</td>\n",
              "      <td>-40</td>\n",
              "      <td>2010-12-03 15:38:00</td>\n",
              "      <td>0.0</td>\n",
              "      <td>NaN</td>\n",
              "      <td>United Kingdom</td>\n",
              "    </tr>\n",
              "    <tr>\n",
              "      <th>7203</th>\n",
              "      <td>537011</td>\n",
              "      <td>22139</td>\n",
              "      <td>NaN</td>\n",
              "      <td>-5</td>\n",
              "      <td>2010-12-03 15:38:00</td>\n",
              "      <td>0.0</td>\n",
              "      <td>NaN</td>\n",
              "      <td>United Kingdom</td>\n",
              "    </tr>\n",
              "    <tr>\n",
              "      <th>7204</th>\n",
              "      <td>537012</td>\n",
              "      <td>21535</td>\n",
              "      <td>NaN</td>\n",
              "      <td>-12</td>\n",
              "      <td>2010-12-03 15:39:00</td>\n",
              "      <td>0.0</td>\n",
              "      <td>NaN</td>\n",
              "      <td>United Kingdom</td>\n",
              "    </tr>\n",
              "  </tbody>\n",
              "</table>\n",
              "</div>"
            ],
            "text/plain": [
              "     InvoiceNo StockCode Description  ...  UnitPrice CustomerID         Country\n",
              "622     536414     22139         NaN  ...        0.0        NaN  United Kingdom\n",
              "1970    536545     21134         NaN  ...        0.0        NaN  United Kingdom\n",
              "1971    536546     22145         NaN  ...        0.0        NaN  United Kingdom\n",
              "1972    536547     37509         NaN  ...        0.0        NaN  United Kingdom\n",
              "1987    536549    85226A         NaN  ...        0.0        NaN  United Kingdom\n",
              "1988    536550     85044         NaN  ...        0.0        NaN  United Kingdom\n",
              "2024    536552     20950         NaN  ...        0.0        NaN  United Kingdom\n",
              "2025    536553     37461         NaN  ...        0.0        NaN  United Kingdom\n",
              "2026    536554     84670         NaN  ...        0.0        NaN  United Kingdom\n",
              "2406    536589     21777         NaN  ...        0.0        NaN  United Kingdom\n",
              "4347    536764    84952C         NaN  ...        0.0        NaN  United Kingdom\n",
              "4348    536765    84952C         NaN  ...        0.0        NaN  United Kingdom\n",
              "7187    536995     35951         NaN  ...        0.0        NaN  United Kingdom\n",
              "7188    536996     22712         NaN  ...        0.0        NaN  United Kingdom\n",
              "7189    536997     22028         NaN  ...        0.0        NaN  United Kingdom\n",
              "7190    536998     85067         NaN  ...        0.0        NaN  United Kingdom\n",
              "7191    536999     21421         NaN  ...        0.0        NaN  United Kingdom\n",
              "7192    537000     21414         NaN  ...        0.0        NaN  United Kingdom\n",
              "7193    537001     21653         NaN  ...        0.0        NaN  United Kingdom\n",
              "7194    537002     21651         NaN  ...        0.0        NaN  United Kingdom\n",
              "7195    537003     85126         NaN  ...        0.0        NaN  United Kingdom\n",
              "7196    537004     21814         NaN  ...        0.0        NaN  United Kingdom\n",
              "7197    537005     21692         NaN  ...        0.0        NaN  United Kingdom\n",
              "7198    537006     21648         NaN  ...        0.0        NaN  United Kingdom\n",
              "7199    537007     21172         NaN  ...        0.0        NaN  United Kingdom\n",
              "7200    537008     21161         NaN  ...        0.0        NaN  United Kingdom\n",
              "7201    537009    84534B         NaN  ...        0.0        NaN  United Kingdom\n",
              "7202    537010     22162         NaN  ...        0.0        NaN  United Kingdom\n",
              "7203    537011     22139         NaN  ...        0.0        NaN  United Kingdom\n",
              "7204    537012     21535         NaN  ...        0.0        NaN  United Kingdom\n",
              "\n",
              "[30 rows x 8 columns]"
            ]
          },
          "metadata": {
            "tags": []
          },
          "execution_count": 10
        }
      ]
    },
    {
      "cell_type": "code",
      "metadata": {
        "id": "aEkR6avvY49B",
        "colab_type": "code",
        "outputId": "d1ea510c-a118-4a86-b071-ef149452c441",
        "colab": {
          "base_uri": "https://localhost:8080/",
          "height": 419
        }
      },
      "source": [
        "data[data.isnull().any(axis=1)].tail(150)"
      ],
      "execution_count": 11,
      "outputs": [
        {
          "output_type": "execute_result",
          "data": {
            "text/html": [
              "<div>\n",
              "<style scoped>\n",
              "    .dataframe tbody tr th:only-of-type {\n",
              "        vertical-align: middle;\n",
              "    }\n",
              "\n",
              "    .dataframe tbody tr th {\n",
              "        vertical-align: top;\n",
              "    }\n",
              "\n",
              "    .dataframe thead th {\n",
              "        text-align: right;\n",
              "    }\n",
              "</style>\n",
              "<table border=\"1\" class=\"dataframe\">\n",
              "  <thead>\n",
              "    <tr style=\"text-align: right;\">\n",
              "      <th></th>\n",
              "      <th>InvoiceNo</th>\n",
              "      <th>StockCode</th>\n",
              "      <th>Description</th>\n",
              "      <th>Quantity</th>\n",
              "      <th>InvoiceDate</th>\n",
              "      <th>UnitPrice</th>\n",
              "      <th>CustomerID</th>\n",
              "      <th>Country</th>\n",
              "    </tr>\n",
              "  </thead>\n",
              "  <tbody>\n",
              "    <tr>\n",
              "      <th>541391</th>\n",
              "      <td>581498</td>\n",
              "      <td>22161</td>\n",
              "      <td>HEART DECORATION RUSTIC HANGING</td>\n",
              "      <td>2</td>\n",
              "      <td>2011-12-09 10:26:00</td>\n",
              "      <td>1.63</td>\n",
              "      <td>NaN</td>\n",
              "      <td>United Kingdom</td>\n",
              "    </tr>\n",
              "    <tr>\n",
              "      <th>541392</th>\n",
              "      <td>581498</td>\n",
              "      <td>22173</td>\n",
              "      <td>METAL 4 HOOK HANGER FRENCH CHATEAU</td>\n",
              "      <td>3</td>\n",
              "      <td>2011-12-09 10:26:00</td>\n",
              "      <td>5.79</td>\n",
              "      <td>NaN</td>\n",
              "      <td>United Kingdom</td>\n",
              "    </tr>\n",
              "    <tr>\n",
              "      <th>541393</th>\n",
              "      <td>581498</td>\n",
              "      <td>22174</td>\n",
              "      <td>PHOTO CUBE</td>\n",
              "      <td>3</td>\n",
              "      <td>2011-12-09 10:26:00</td>\n",
              "      <td>4.13</td>\n",
              "      <td>NaN</td>\n",
              "      <td>United Kingdom</td>\n",
              "    </tr>\n",
              "    <tr>\n",
              "      <th>541394</th>\n",
              "      <td>581498</td>\n",
              "      <td>22175</td>\n",
              "      <td>PINK OWL SOFT TOY</td>\n",
              "      <td>1</td>\n",
              "      <td>2011-12-09 10:26:00</td>\n",
              "      <td>5.79</td>\n",
              "      <td>NaN</td>\n",
              "      <td>United Kingdom</td>\n",
              "    </tr>\n",
              "    <tr>\n",
              "      <th>541395</th>\n",
              "      <td>581498</td>\n",
              "      <td>22178</td>\n",
              "      <td>VICTORIAN GLASS HANGING T-LIGHT</td>\n",
              "      <td>1</td>\n",
              "      <td>2011-12-09 10:26:00</td>\n",
              "      <td>2.46</td>\n",
              "      <td>NaN</td>\n",
              "      <td>United Kingdom</td>\n",
              "    </tr>\n",
              "    <tr>\n",
              "      <th>...</th>\n",
              "      <td>...</td>\n",
              "      <td>...</td>\n",
              "      <td>...</td>\n",
              "      <td>...</td>\n",
              "      <td>...</td>\n",
              "      <td>...</td>\n",
              "      <td>...</td>\n",
              "      <td>...</td>\n",
              "    </tr>\n",
              "    <tr>\n",
              "      <th>541536</th>\n",
              "      <td>581498</td>\n",
              "      <td>85099B</td>\n",
              "      <td>JUMBO BAG RED RETROSPOT</td>\n",
              "      <td>5</td>\n",
              "      <td>2011-12-09 10:26:00</td>\n",
              "      <td>4.13</td>\n",
              "      <td>NaN</td>\n",
              "      <td>United Kingdom</td>\n",
              "    </tr>\n",
              "    <tr>\n",
              "      <th>541537</th>\n",
              "      <td>581498</td>\n",
              "      <td>85099C</td>\n",
              "      <td>JUMBO  BAG BAROQUE BLACK WHITE</td>\n",
              "      <td>4</td>\n",
              "      <td>2011-12-09 10:26:00</td>\n",
              "      <td>4.13</td>\n",
              "      <td>NaN</td>\n",
              "      <td>United Kingdom</td>\n",
              "    </tr>\n",
              "    <tr>\n",
              "      <th>541538</th>\n",
              "      <td>581498</td>\n",
              "      <td>85150</td>\n",
              "      <td>LADIES &amp; GENTLEMEN METAL SIGN</td>\n",
              "      <td>1</td>\n",
              "      <td>2011-12-09 10:26:00</td>\n",
              "      <td>4.96</td>\n",
              "      <td>NaN</td>\n",
              "      <td>United Kingdom</td>\n",
              "    </tr>\n",
              "    <tr>\n",
              "      <th>541539</th>\n",
              "      <td>581498</td>\n",
              "      <td>85174</td>\n",
              "      <td>S/4 CACTI CANDLES</td>\n",
              "      <td>1</td>\n",
              "      <td>2011-12-09 10:26:00</td>\n",
              "      <td>10.79</td>\n",
              "      <td>NaN</td>\n",
              "      <td>United Kingdom</td>\n",
              "    </tr>\n",
              "    <tr>\n",
              "      <th>541540</th>\n",
              "      <td>581498</td>\n",
              "      <td>DOT</td>\n",
              "      <td>DOTCOM POSTAGE</td>\n",
              "      <td>1</td>\n",
              "      <td>2011-12-09 10:26:00</td>\n",
              "      <td>1714.17</td>\n",
              "      <td>NaN</td>\n",
              "      <td>United Kingdom</td>\n",
              "    </tr>\n",
              "  </tbody>\n",
              "</table>\n",
              "<p>150 rows × 8 columns</p>\n",
              "</div>"
            ],
            "text/plain": [
              "       InvoiceNo StockCode  ... CustomerID         Country\n",
              "541391    581498     22161  ...        NaN  United Kingdom\n",
              "541392    581498     22173  ...        NaN  United Kingdom\n",
              "541393    581498     22174  ...        NaN  United Kingdom\n",
              "541394    581498     22175  ...        NaN  United Kingdom\n",
              "541395    581498     22178  ...        NaN  United Kingdom\n",
              "...          ...       ...  ...        ...             ...\n",
              "541536    581498    85099B  ...        NaN  United Kingdom\n",
              "541537    581498    85099C  ...        NaN  United Kingdom\n",
              "541538    581498     85150  ...        NaN  United Kingdom\n",
              "541539    581498     85174  ...        NaN  United Kingdom\n",
              "541540    581498       DOT  ...        NaN  United Kingdom\n",
              "\n",
              "[150 rows x 8 columns]"
            ]
          },
          "metadata": {
            "tags": []
          },
          "execution_count": 11
        }
      ]
    },
    {
      "cell_type": "code",
      "metadata": {
        "id": "-wDfywL3TiHS",
        "colab_type": "code",
        "colab": {}
      },
      "source": [
        "data['Description'] = data['Description'].fillna('Others')"
      ],
      "execution_count": 0,
      "outputs": []
    },
    {
      "cell_type": "code",
      "metadata": {
        "id": "eDnUKWfhxlQZ",
        "colab_type": "code",
        "outputId": "2024c8d9-b29f-4bc5-dfc9-7dbb4494d54e",
        "colab": {
          "base_uri": "https://localhost:8080/",
          "height": 170
        }
      },
      "source": [
        "data.isnull().sum()"
      ],
      "execution_count": 13,
      "outputs": [
        {
          "output_type": "execute_result",
          "data": {
            "text/plain": [
              "InvoiceNo           0\n",
              "StockCode           0\n",
              "Description         0\n",
              "Quantity            0\n",
              "InvoiceDate         0\n",
              "UnitPrice           0\n",
              "CustomerID     135080\n",
              "Country             0\n",
              "dtype: int64"
            ]
          },
          "metadata": {
            "tags": []
          },
          "execution_count": 13
        }
      ]
    },
    {
      "cell_type": "code",
      "metadata": {
        "id": "Csue1ziWDBS6",
        "colab_type": "code",
        "outputId": "8d037ae5-5bd4-4eb6-8234-e11cca68e445",
        "colab": {
          "base_uri": "https://localhost:8080/",
          "height": 419
        }
      },
      "source": [
        "data[7187:8000]"
      ],
      "execution_count": 14,
      "outputs": [
        {
          "output_type": "execute_result",
          "data": {
            "text/html": [
              "<div>\n",
              "<style scoped>\n",
              "    .dataframe tbody tr th:only-of-type {\n",
              "        vertical-align: middle;\n",
              "    }\n",
              "\n",
              "    .dataframe tbody tr th {\n",
              "        vertical-align: top;\n",
              "    }\n",
              "\n",
              "    .dataframe thead th {\n",
              "        text-align: right;\n",
              "    }\n",
              "</style>\n",
              "<table border=\"1\" class=\"dataframe\">\n",
              "  <thead>\n",
              "    <tr style=\"text-align: right;\">\n",
              "      <th></th>\n",
              "      <th>InvoiceNo</th>\n",
              "      <th>StockCode</th>\n",
              "      <th>Description</th>\n",
              "      <th>Quantity</th>\n",
              "      <th>InvoiceDate</th>\n",
              "      <th>UnitPrice</th>\n",
              "      <th>CustomerID</th>\n",
              "      <th>Country</th>\n",
              "    </tr>\n",
              "  </thead>\n",
              "  <tbody>\n",
              "    <tr>\n",
              "      <th>7187</th>\n",
              "      <td>536995</td>\n",
              "      <td>35951</td>\n",
              "      <td>Others</td>\n",
              "      <td>57</td>\n",
              "      <td>2010-12-03 15:29:00</td>\n",
              "      <td>0.00</td>\n",
              "      <td>NaN</td>\n",
              "      <td>United Kingdom</td>\n",
              "    </tr>\n",
              "    <tr>\n",
              "      <th>7188</th>\n",
              "      <td>536996</td>\n",
              "      <td>22712</td>\n",
              "      <td>Others</td>\n",
              "      <td>-20</td>\n",
              "      <td>2010-12-03 15:30:00</td>\n",
              "      <td>0.00</td>\n",
              "      <td>NaN</td>\n",
              "      <td>United Kingdom</td>\n",
              "    </tr>\n",
              "    <tr>\n",
              "      <th>7189</th>\n",
              "      <td>536997</td>\n",
              "      <td>22028</td>\n",
              "      <td>Others</td>\n",
              "      <td>-20</td>\n",
              "      <td>2010-12-03 15:30:00</td>\n",
              "      <td>0.00</td>\n",
              "      <td>NaN</td>\n",
              "      <td>United Kingdom</td>\n",
              "    </tr>\n",
              "    <tr>\n",
              "      <th>7190</th>\n",
              "      <td>536998</td>\n",
              "      <td>85067</td>\n",
              "      <td>Others</td>\n",
              "      <td>-6</td>\n",
              "      <td>2010-12-03 15:30:00</td>\n",
              "      <td>0.00</td>\n",
              "      <td>NaN</td>\n",
              "      <td>United Kingdom</td>\n",
              "    </tr>\n",
              "    <tr>\n",
              "      <th>7191</th>\n",
              "      <td>536999</td>\n",
              "      <td>21421</td>\n",
              "      <td>Others</td>\n",
              "      <td>110</td>\n",
              "      <td>2010-12-03 15:32:00</td>\n",
              "      <td>0.00</td>\n",
              "      <td>NaN</td>\n",
              "      <td>United Kingdom</td>\n",
              "    </tr>\n",
              "    <tr>\n",
              "      <th>...</th>\n",
              "      <td>...</td>\n",
              "      <td>...</td>\n",
              "      <td>...</td>\n",
              "      <td>...</td>\n",
              "      <td>...</td>\n",
              "      <td>...</td>\n",
              "      <td>...</td>\n",
              "      <td>...</td>\n",
              "    </tr>\n",
              "    <tr>\n",
              "      <th>7995</th>\n",
              "      <td>537081</td>\n",
              "      <td>21914</td>\n",
              "      <td>BLUE HARMONICA IN BOX</td>\n",
              "      <td>36</td>\n",
              "      <td>2010-12-05 12:00:00</td>\n",
              "      <td>1.25</td>\n",
              "      <td>15332.0</td>\n",
              "      <td>Lithuania</td>\n",
              "    </tr>\n",
              "    <tr>\n",
              "      <th>7996</th>\n",
              "      <td>537081</td>\n",
              "      <td>22273</td>\n",
              "      <td>FELTCRAFT DOLL MOLLY</td>\n",
              "      <td>12</td>\n",
              "      <td>2010-12-05 12:00:00</td>\n",
              "      <td>2.95</td>\n",
              "      <td>15332.0</td>\n",
              "      <td>Lithuania</td>\n",
              "    </tr>\n",
              "    <tr>\n",
              "      <th>7997</th>\n",
              "      <td>537081</td>\n",
              "      <td>22306</td>\n",
              "      <td>SILVER MUG BONE CHINA TREE OF LIFE</td>\n",
              "      <td>36</td>\n",
              "      <td>2010-12-05 12:00:00</td>\n",
              "      <td>1.65</td>\n",
              "      <td>15332.0</td>\n",
              "      <td>Lithuania</td>\n",
              "    </tr>\n",
              "    <tr>\n",
              "      <th>7998</th>\n",
              "      <td>537081</td>\n",
              "      <td>22307</td>\n",
              "      <td>GOLD MUG BONE CHINA TREE OF LIFE</td>\n",
              "      <td>36</td>\n",
              "      <td>2010-12-05 12:00:00</td>\n",
              "      <td>1.65</td>\n",
              "      <td>15332.0</td>\n",
              "      <td>Lithuania</td>\n",
              "    </tr>\n",
              "    <tr>\n",
              "      <th>7999</th>\n",
              "      <td>537081</td>\n",
              "      <td>22300</td>\n",
              "      <td>COFFEE MUG DOG + BALL DESIGN</td>\n",
              "      <td>18</td>\n",
              "      <td>2010-12-05 12:00:00</td>\n",
              "      <td>2.55</td>\n",
              "      <td>15332.0</td>\n",
              "      <td>Lithuania</td>\n",
              "    </tr>\n",
              "  </tbody>\n",
              "</table>\n",
              "<p>813 rows × 8 columns</p>\n",
              "</div>"
            ],
            "text/plain": [
              "     InvoiceNo StockCode  ... CustomerID         Country\n",
              "7187    536995     35951  ...        NaN  United Kingdom\n",
              "7188    536996     22712  ...        NaN  United Kingdom\n",
              "7189    536997     22028  ...        NaN  United Kingdom\n",
              "7190    536998     85067  ...        NaN  United Kingdom\n",
              "7191    536999     21421  ...        NaN  United Kingdom\n",
              "...        ...       ...  ...        ...             ...\n",
              "7995    537081     21914  ...    15332.0       Lithuania\n",
              "7996    537081     22273  ...    15332.0       Lithuania\n",
              "7997    537081     22306  ...    15332.0       Lithuania\n",
              "7998    537081     22307  ...    15332.0       Lithuania\n",
              "7999    537081     22300  ...    15332.0       Lithuania\n",
              "\n",
              "[813 rows x 8 columns]"
            ]
          },
          "metadata": {
            "tags": []
          },
          "execution_count": 14
        }
      ]
    },
    {
      "cell_type": "code",
      "metadata": {
        "id": "7QwygeuyxuOM",
        "colab_type": "code",
        "outputId": "8dad7de0-c7e8-45c7-c243-6d9fa0f2e714",
        "colab": {
          "base_uri": "https://localhost:8080/",
          "height": 34
        }
      },
      "source": [
        "print(min(data['CustomerID']))"
      ],
      "execution_count": 15,
      "outputs": [
        {
          "output_type": "stream",
          "text": [
            "12346.0\n"
          ],
          "name": "stdout"
        }
      ]
    },
    {
      "cell_type": "code",
      "metadata": {
        "id": "ozJC_rTQxt7h",
        "colab_type": "code",
        "outputId": "501d4dc6-04ab-4900-b637-834ac5a92c2f",
        "colab": {
          "base_uri": "https://localhost:8080/",
          "height": 34
        }
      },
      "source": [
        "print(max(data['CustomerID']))"
      ],
      "execution_count": 16,
      "outputs": [
        {
          "output_type": "stream",
          "text": [
            "18287.0\n"
          ],
          "name": "stdout"
        }
      ]
    },
    {
      "cell_type": "code",
      "metadata": {
        "id": "JkcP5Nd0zHQ7",
        "colab_type": "code",
        "outputId": "202011ab-d5a0-4fcd-c3a1-648e3165ad0f",
        "colab": {
          "base_uri": "https://localhost:8080/",
          "height": 51
        }
      },
      "source": [
        "print(len(data['InvoiceNo'].unique()))\n",
        "print(len(data['CustomerID'].unique()))"
      ],
      "execution_count": 17,
      "outputs": [
        {
          "output_type": "stream",
          "text": [
            "25900\n",
            "4373\n"
          ],
          "name": "stdout"
        }
      ]
    },
    {
      "cell_type": "code",
      "metadata": {
        "id": "n0qW2sOzPaIf",
        "colab_type": "code",
        "outputId": "df047512-cc15-411a-ae17-eec7d1e8f492",
        "colab": {
          "base_uri": "https://localhost:8080/",
          "height": 328
        }
      },
      "source": [
        "data[1965:1974]"
      ],
      "execution_count": 18,
      "outputs": [
        {
          "output_type": "execute_result",
          "data": {
            "text/html": [
              "<div>\n",
              "<style scoped>\n",
              "    .dataframe tbody tr th:only-of-type {\n",
              "        vertical-align: middle;\n",
              "    }\n",
              "\n",
              "    .dataframe tbody tr th {\n",
              "        vertical-align: top;\n",
              "    }\n",
              "\n",
              "    .dataframe thead th {\n",
              "        text-align: right;\n",
              "    }\n",
              "</style>\n",
              "<table border=\"1\" class=\"dataframe\">\n",
              "  <thead>\n",
              "    <tr style=\"text-align: right;\">\n",
              "      <th></th>\n",
              "      <th>InvoiceNo</th>\n",
              "      <th>StockCode</th>\n",
              "      <th>Description</th>\n",
              "      <th>Quantity</th>\n",
              "      <th>InvoiceDate</th>\n",
              "      <th>UnitPrice</th>\n",
              "      <th>CustomerID</th>\n",
              "      <th>Country</th>\n",
              "    </tr>\n",
              "  </thead>\n",
              "  <tbody>\n",
              "    <tr>\n",
              "      <th>1965</th>\n",
              "      <td>536544</td>\n",
              "      <td>21721</td>\n",
              "      <td>CANDY SHOP  STICKER SHEET</td>\n",
              "      <td>1</td>\n",
              "      <td>2010-12-01 14:32:00</td>\n",
              "      <td>1.66</td>\n",
              "      <td>NaN</td>\n",
              "      <td>United Kingdom</td>\n",
              "    </tr>\n",
              "    <tr>\n",
              "      <th>1966</th>\n",
              "      <td>536544</td>\n",
              "      <td>21722</td>\n",
              "      <td>SWEET PUDDING STICKER SHEET</td>\n",
              "      <td>1</td>\n",
              "      <td>2010-12-01 14:32:00</td>\n",
              "      <td>1.66</td>\n",
              "      <td>NaN</td>\n",
              "      <td>United Kingdom</td>\n",
              "    </tr>\n",
              "    <tr>\n",
              "      <th>1967</th>\n",
              "      <td>536544</td>\n",
              "      <td>21731</td>\n",
              "      <td>RED TOADSTOOL LED NIGHT LIGHT</td>\n",
              "      <td>5</td>\n",
              "      <td>2010-12-01 14:32:00</td>\n",
              "      <td>3.36</td>\n",
              "      <td>NaN</td>\n",
              "      <td>United Kingdom</td>\n",
              "    </tr>\n",
              "    <tr>\n",
              "      <th>1968</th>\n",
              "      <td>536544</td>\n",
              "      <td>21742</td>\n",
              "      <td>LARGE ROUND WICKER PLATTER</td>\n",
              "      <td>1</td>\n",
              "      <td>2010-12-01 14:32:00</td>\n",
              "      <td>12.72</td>\n",
              "      <td>NaN</td>\n",
              "      <td>United Kingdom</td>\n",
              "    </tr>\n",
              "    <tr>\n",
              "      <th>1969</th>\n",
              "      <td>536544</td>\n",
              "      <td>21758</td>\n",
              "      <td>VINTAGE SHELLS PRINT</td>\n",
              "      <td>1</td>\n",
              "      <td>2010-12-01 14:32:00</td>\n",
              "      <td>12.72</td>\n",
              "      <td>NaN</td>\n",
              "      <td>United Kingdom</td>\n",
              "    </tr>\n",
              "    <tr>\n",
              "      <th>1970</th>\n",
              "      <td>536545</td>\n",
              "      <td>21134</td>\n",
              "      <td>Others</td>\n",
              "      <td>1</td>\n",
              "      <td>2010-12-01 14:32:00</td>\n",
              "      <td>0.00</td>\n",
              "      <td>NaN</td>\n",
              "      <td>United Kingdom</td>\n",
              "    </tr>\n",
              "    <tr>\n",
              "      <th>1971</th>\n",
              "      <td>536546</td>\n",
              "      <td>22145</td>\n",
              "      <td>Others</td>\n",
              "      <td>1</td>\n",
              "      <td>2010-12-01 14:33:00</td>\n",
              "      <td>0.00</td>\n",
              "      <td>NaN</td>\n",
              "      <td>United Kingdom</td>\n",
              "    </tr>\n",
              "    <tr>\n",
              "      <th>1972</th>\n",
              "      <td>536547</td>\n",
              "      <td>37509</td>\n",
              "      <td>Others</td>\n",
              "      <td>1</td>\n",
              "      <td>2010-12-01 14:33:00</td>\n",
              "      <td>0.00</td>\n",
              "      <td>NaN</td>\n",
              "      <td>United Kingdom</td>\n",
              "    </tr>\n",
              "    <tr>\n",
              "      <th>1973</th>\n",
              "      <td>C536548</td>\n",
              "      <td>22244</td>\n",
              "      <td>3 HOOK HANGER MAGIC GARDEN</td>\n",
              "      <td>-4</td>\n",
              "      <td>2010-12-01 14:33:00</td>\n",
              "      <td>1.95</td>\n",
              "      <td>12472.0</td>\n",
              "      <td>Germany</td>\n",
              "    </tr>\n",
              "  </tbody>\n",
              "</table>\n",
              "</div>"
            ],
            "text/plain": [
              "     InvoiceNo StockCode  ... CustomerID         Country\n",
              "1965    536544     21721  ...        NaN  United Kingdom\n",
              "1966    536544     21722  ...        NaN  United Kingdom\n",
              "1967    536544     21731  ...        NaN  United Kingdom\n",
              "1968    536544     21742  ...        NaN  United Kingdom\n",
              "1969    536544     21758  ...        NaN  United Kingdom\n",
              "1970    536545     21134  ...        NaN  United Kingdom\n",
              "1971    536546     22145  ...        NaN  United Kingdom\n",
              "1972    536547     37509  ...        NaN  United Kingdom\n",
              "1973   C536548     22244  ...    12472.0         Germany\n",
              "\n",
              "[9 rows x 8 columns]"
            ]
          },
          "metadata": {
            "tags": []
          },
          "execution_count": 18
        }
      ]
    },
    {
      "cell_type": "code",
      "metadata": {
        "id": "eGopagO1zHKu",
        "colab_type": "code",
        "colab": {}
      },
      "source": [
        "np.random.seed(30)\n",
        "data['CustomerID']=data.groupby([\"InvoiceNo\"])['CustomerID'].transform(lambda x: x.fillna(np.random.randint(18288,21998,1)[0]))"
      ],
      "execution_count": 0,
      "outputs": []
    },
    {
      "cell_type": "code",
      "metadata": {
        "id": "zIP6dYbuR9jy",
        "colab_type": "code",
        "colab": {}
      },
      "source": [
        "data=data[['CustomerID','InvoiceNo','StockCode','Description','Quantity','UnitPrice','InvoiceDate','Country']]"
      ],
      "execution_count": 0,
      "outputs": []
    },
    {
      "cell_type": "code",
      "metadata": {
        "id": "zCsezwShzHG9",
        "colab_type": "code",
        "outputId": "9c4fa858-4835-4054-df39-0ea81117b175",
        "colab": {
          "base_uri": "https://localhost:8080/",
          "height": 328
        }
      },
      "source": [
        "data[1965:1974]"
      ],
      "execution_count": 21,
      "outputs": [
        {
          "output_type": "execute_result",
          "data": {
            "text/html": [
              "<div>\n",
              "<style scoped>\n",
              "    .dataframe tbody tr th:only-of-type {\n",
              "        vertical-align: middle;\n",
              "    }\n",
              "\n",
              "    .dataframe tbody tr th {\n",
              "        vertical-align: top;\n",
              "    }\n",
              "\n",
              "    .dataframe thead th {\n",
              "        text-align: right;\n",
              "    }\n",
              "</style>\n",
              "<table border=\"1\" class=\"dataframe\">\n",
              "  <thead>\n",
              "    <tr style=\"text-align: right;\">\n",
              "      <th></th>\n",
              "      <th>CustomerID</th>\n",
              "      <th>InvoiceNo</th>\n",
              "      <th>StockCode</th>\n",
              "      <th>Description</th>\n",
              "      <th>Quantity</th>\n",
              "      <th>UnitPrice</th>\n",
              "      <th>InvoiceDate</th>\n",
              "      <th>Country</th>\n",
              "    </tr>\n",
              "  </thead>\n",
              "  <tbody>\n",
              "    <tr>\n",
              "      <th>1965</th>\n",
              "      <td>21032.0</td>\n",
              "      <td>536544</td>\n",
              "      <td>21721</td>\n",
              "      <td>CANDY SHOP  STICKER SHEET</td>\n",
              "      <td>1</td>\n",
              "      <td>1.66</td>\n",
              "      <td>2010-12-01 14:32:00</td>\n",
              "      <td>United Kingdom</td>\n",
              "    </tr>\n",
              "    <tr>\n",
              "      <th>1966</th>\n",
              "      <td>21032.0</td>\n",
              "      <td>536544</td>\n",
              "      <td>21722</td>\n",
              "      <td>SWEET PUDDING STICKER SHEET</td>\n",
              "      <td>1</td>\n",
              "      <td>1.66</td>\n",
              "      <td>2010-12-01 14:32:00</td>\n",
              "      <td>United Kingdom</td>\n",
              "    </tr>\n",
              "    <tr>\n",
              "      <th>1967</th>\n",
              "      <td>21032.0</td>\n",
              "      <td>536544</td>\n",
              "      <td>21731</td>\n",
              "      <td>RED TOADSTOOL LED NIGHT LIGHT</td>\n",
              "      <td>5</td>\n",
              "      <td>3.36</td>\n",
              "      <td>2010-12-01 14:32:00</td>\n",
              "      <td>United Kingdom</td>\n",
              "    </tr>\n",
              "    <tr>\n",
              "      <th>1968</th>\n",
              "      <td>21032.0</td>\n",
              "      <td>536544</td>\n",
              "      <td>21742</td>\n",
              "      <td>LARGE ROUND WICKER PLATTER</td>\n",
              "      <td>1</td>\n",
              "      <td>12.72</td>\n",
              "      <td>2010-12-01 14:32:00</td>\n",
              "      <td>United Kingdom</td>\n",
              "    </tr>\n",
              "    <tr>\n",
              "      <th>1969</th>\n",
              "      <td>21032.0</td>\n",
              "      <td>536544</td>\n",
              "      <td>21758</td>\n",
              "      <td>VINTAGE SHELLS PRINT</td>\n",
              "      <td>1</td>\n",
              "      <td>12.72</td>\n",
              "      <td>2010-12-01 14:32:00</td>\n",
              "      <td>United Kingdom</td>\n",
              "    </tr>\n",
              "    <tr>\n",
              "      <th>1970</th>\n",
              "      <td>19840.0</td>\n",
              "      <td>536545</td>\n",
              "      <td>21134</td>\n",
              "      <td>Others</td>\n",
              "      <td>1</td>\n",
              "      <td>0.00</td>\n",
              "      <td>2010-12-01 14:32:00</td>\n",
              "      <td>United Kingdom</td>\n",
              "    </tr>\n",
              "    <tr>\n",
              "      <th>1971</th>\n",
              "      <td>20375.0</td>\n",
              "      <td>536546</td>\n",
              "      <td>22145</td>\n",
              "      <td>Others</td>\n",
              "      <td>1</td>\n",
              "      <td>0.00</td>\n",
              "      <td>2010-12-01 14:33:00</td>\n",
              "      <td>United Kingdom</td>\n",
              "    </tr>\n",
              "    <tr>\n",
              "      <th>1972</th>\n",
              "      <td>21649.0</td>\n",
              "      <td>536547</td>\n",
              "      <td>37509</td>\n",
              "      <td>Others</td>\n",
              "      <td>1</td>\n",
              "      <td>0.00</td>\n",
              "      <td>2010-12-01 14:33:00</td>\n",
              "      <td>United Kingdom</td>\n",
              "    </tr>\n",
              "    <tr>\n",
              "      <th>1973</th>\n",
              "      <td>12472.0</td>\n",
              "      <td>C536548</td>\n",
              "      <td>22244</td>\n",
              "      <td>3 HOOK HANGER MAGIC GARDEN</td>\n",
              "      <td>-4</td>\n",
              "      <td>1.95</td>\n",
              "      <td>2010-12-01 14:33:00</td>\n",
              "      <td>Germany</td>\n",
              "    </tr>\n",
              "  </tbody>\n",
              "</table>\n",
              "</div>"
            ],
            "text/plain": [
              "      CustomerID InvoiceNo  ...         InvoiceDate         Country\n",
              "1965     21032.0    536544  ... 2010-12-01 14:32:00  United Kingdom\n",
              "1966     21032.0    536544  ... 2010-12-01 14:32:00  United Kingdom\n",
              "1967     21032.0    536544  ... 2010-12-01 14:32:00  United Kingdom\n",
              "1968     21032.0    536544  ... 2010-12-01 14:32:00  United Kingdom\n",
              "1969     21032.0    536544  ... 2010-12-01 14:32:00  United Kingdom\n",
              "1970     19840.0    536545  ... 2010-12-01 14:32:00  United Kingdom\n",
              "1971     20375.0    536546  ... 2010-12-01 14:33:00  United Kingdom\n",
              "1972     21649.0    536547  ... 2010-12-01 14:33:00  United Kingdom\n",
              "1973     12472.0   C536548  ... 2010-12-01 14:33:00         Germany\n",
              "\n",
              "[9 rows x 8 columns]"
            ]
          },
          "metadata": {
            "tags": []
          },
          "execution_count": 21
        }
      ]
    },
    {
      "cell_type": "code",
      "metadata": {
        "id": "ZggzfEgkzHE_",
        "colab_type": "code",
        "outputId": "53173ef3-912c-4406-a117-61f0837e5ab8",
        "colab": {
          "base_uri": "https://localhost:8080/",
          "height": 170
        }
      },
      "source": [
        "data.isnull().sum()"
      ],
      "execution_count": 22,
      "outputs": [
        {
          "output_type": "execute_result",
          "data": {
            "text/plain": [
              "CustomerID     0\n",
              "InvoiceNo      0\n",
              "StockCode      0\n",
              "Description    0\n",
              "Quantity       0\n",
              "UnitPrice      0\n",
              "InvoiceDate    0\n",
              "Country        0\n",
              "dtype: int64"
            ]
          },
          "metadata": {
            "tags": []
          },
          "execution_count": 22
        }
      ]
    },
    {
      "cell_type": "code",
      "metadata": {
        "id": "iM3xJkYbUQ5C",
        "colab_type": "code",
        "colab": {}
      },
      "source": [
        "Total_Amount=data['Quantity']*data['UnitPrice']\n",
        "data.insert(loc=6,column='Total_Amount',value=Total_Amount)"
      ],
      "execution_count": 0,
      "outputs": []
    },
    {
      "cell_type": "code",
      "metadata": {
        "id": "A040uaVLU66f",
        "colab_type": "code",
        "outputId": "f1a14a15-bd51-493f-dc3a-488130c72f36",
        "colab": {
          "base_uri": "https://localhost:8080/",
          "height": 204
        }
      },
      "source": [
        "data.head()"
      ],
      "execution_count": 24,
      "outputs": [
        {
          "output_type": "execute_result",
          "data": {
            "text/html": [
              "<div>\n",
              "<style scoped>\n",
              "    .dataframe tbody tr th:only-of-type {\n",
              "        vertical-align: middle;\n",
              "    }\n",
              "\n",
              "    .dataframe tbody tr th {\n",
              "        vertical-align: top;\n",
              "    }\n",
              "\n",
              "    .dataframe thead th {\n",
              "        text-align: right;\n",
              "    }\n",
              "</style>\n",
              "<table border=\"1\" class=\"dataframe\">\n",
              "  <thead>\n",
              "    <tr style=\"text-align: right;\">\n",
              "      <th></th>\n",
              "      <th>CustomerID</th>\n",
              "      <th>InvoiceNo</th>\n",
              "      <th>StockCode</th>\n",
              "      <th>Description</th>\n",
              "      <th>Quantity</th>\n",
              "      <th>UnitPrice</th>\n",
              "      <th>Total_Amount</th>\n",
              "      <th>InvoiceDate</th>\n",
              "      <th>Country</th>\n",
              "    </tr>\n",
              "  </thead>\n",
              "  <tbody>\n",
              "    <tr>\n",
              "      <th>0</th>\n",
              "      <td>17850.0</td>\n",
              "      <td>536365</td>\n",
              "      <td>85123A</td>\n",
              "      <td>WHITE HANGING HEART T-LIGHT HOLDER</td>\n",
              "      <td>6</td>\n",
              "      <td>2.55</td>\n",
              "      <td>15.30</td>\n",
              "      <td>2010-12-01 08:26:00</td>\n",
              "      <td>United Kingdom</td>\n",
              "    </tr>\n",
              "    <tr>\n",
              "      <th>1</th>\n",
              "      <td>17850.0</td>\n",
              "      <td>536365</td>\n",
              "      <td>71053</td>\n",
              "      <td>WHITE METAL LANTERN</td>\n",
              "      <td>6</td>\n",
              "      <td>3.39</td>\n",
              "      <td>20.34</td>\n",
              "      <td>2010-12-01 08:26:00</td>\n",
              "      <td>United Kingdom</td>\n",
              "    </tr>\n",
              "    <tr>\n",
              "      <th>2</th>\n",
              "      <td>17850.0</td>\n",
              "      <td>536365</td>\n",
              "      <td>84406B</td>\n",
              "      <td>CREAM CUPID HEARTS COAT HANGER</td>\n",
              "      <td>8</td>\n",
              "      <td>2.75</td>\n",
              "      <td>22.00</td>\n",
              "      <td>2010-12-01 08:26:00</td>\n",
              "      <td>United Kingdom</td>\n",
              "    </tr>\n",
              "    <tr>\n",
              "      <th>3</th>\n",
              "      <td>17850.0</td>\n",
              "      <td>536365</td>\n",
              "      <td>84029G</td>\n",
              "      <td>KNITTED UNION FLAG HOT WATER BOTTLE</td>\n",
              "      <td>6</td>\n",
              "      <td>3.39</td>\n",
              "      <td>20.34</td>\n",
              "      <td>2010-12-01 08:26:00</td>\n",
              "      <td>United Kingdom</td>\n",
              "    </tr>\n",
              "    <tr>\n",
              "      <th>4</th>\n",
              "      <td>17850.0</td>\n",
              "      <td>536365</td>\n",
              "      <td>84029E</td>\n",
              "      <td>RED WOOLLY HOTTIE WHITE HEART.</td>\n",
              "      <td>6</td>\n",
              "      <td>3.39</td>\n",
              "      <td>20.34</td>\n",
              "      <td>2010-12-01 08:26:00</td>\n",
              "      <td>United Kingdom</td>\n",
              "    </tr>\n",
              "  </tbody>\n",
              "</table>\n",
              "</div>"
            ],
            "text/plain": [
              "   CustomerID InvoiceNo  ...         InvoiceDate         Country\n",
              "0     17850.0    536365  ... 2010-12-01 08:26:00  United Kingdom\n",
              "1     17850.0    536365  ... 2010-12-01 08:26:00  United Kingdom\n",
              "2     17850.0    536365  ... 2010-12-01 08:26:00  United Kingdom\n",
              "3     17850.0    536365  ... 2010-12-01 08:26:00  United Kingdom\n",
              "4     17850.0    536365  ... 2010-12-01 08:26:00  United Kingdom\n",
              "\n",
              "[5 rows x 9 columns]"
            ]
          },
          "metadata": {
            "tags": []
          },
          "execution_count": 24
        }
      ]
    },
    {
      "cell_type": "code",
      "metadata": {
        "id": "2PZSwEchy9RU",
        "colab_type": "code",
        "outputId": "03cf8040-19a6-405c-fdf6-4e97e73a8a70",
        "colab": {
          "base_uri": "https://localhost:8080/",
          "height": 419
        }
      },
      "source": [
        "data[data['Quantity']<0]"
      ],
      "execution_count": 25,
      "outputs": [
        {
          "output_type": "execute_result",
          "data": {
            "text/html": [
              "<div>\n",
              "<style scoped>\n",
              "    .dataframe tbody tr th:only-of-type {\n",
              "        vertical-align: middle;\n",
              "    }\n",
              "\n",
              "    .dataframe tbody tr th {\n",
              "        vertical-align: top;\n",
              "    }\n",
              "\n",
              "    .dataframe thead th {\n",
              "        text-align: right;\n",
              "    }\n",
              "</style>\n",
              "<table border=\"1\" class=\"dataframe\">\n",
              "  <thead>\n",
              "    <tr style=\"text-align: right;\">\n",
              "      <th></th>\n",
              "      <th>CustomerID</th>\n",
              "      <th>InvoiceNo</th>\n",
              "      <th>StockCode</th>\n",
              "      <th>Description</th>\n",
              "      <th>Quantity</th>\n",
              "      <th>UnitPrice</th>\n",
              "      <th>Total_Amount</th>\n",
              "      <th>InvoiceDate</th>\n",
              "      <th>Country</th>\n",
              "    </tr>\n",
              "  </thead>\n",
              "  <tbody>\n",
              "    <tr>\n",
              "      <th>141</th>\n",
              "      <td>14527.0</td>\n",
              "      <td>C536379</td>\n",
              "      <td>D</td>\n",
              "      <td>Discount</td>\n",
              "      <td>-1</td>\n",
              "      <td>27.50</td>\n",
              "      <td>-27.50</td>\n",
              "      <td>2010-12-01 09:41:00</td>\n",
              "      <td>United Kingdom</td>\n",
              "    </tr>\n",
              "    <tr>\n",
              "      <th>154</th>\n",
              "      <td>15311.0</td>\n",
              "      <td>C536383</td>\n",
              "      <td>35004C</td>\n",
              "      <td>SET OF 3 COLOURED  FLYING DUCKS</td>\n",
              "      <td>-1</td>\n",
              "      <td>4.65</td>\n",
              "      <td>-4.65</td>\n",
              "      <td>2010-12-01 09:49:00</td>\n",
              "      <td>United Kingdom</td>\n",
              "    </tr>\n",
              "    <tr>\n",
              "      <th>235</th>\n",
              "      <td>17548.0</td>\n",
              "      <td>C536391</td>\n",
              "      <td>22556</td>\n",
              "      <td>PLASTERS IN TIN CIRCUS PARADE</td>\n",
              "      <td>-12</td>\n",
              "      <td>1.65</td>\n",
              "      <td>-19.80</td>\n",
              "      <td>2010-12-01 10:24:00</td>\n",
              "      <td>United Kingdom</td>\n",
              "    </tr>\n",
              "    <tr>\n",
              "      <th>236</th>\n",
              "      <td>17548.0</td>\n",
              "      <td>C536391</td>\n",
              "      <td>21984</td>\n",
              "      <td>PACK OF 12 PINK PAISLEY TISSUES</td>\n",
              "      <td>-24</td>\n",
              "      <td>0.29</td>\n",
              "      <td>-6.96</td>\n",
              "      <td>2010-12-01 10:24:00</td>\n",
              "      <td>United Kingdom</td>\n",
              "    </tr>\n",
              "    <tr>\n",
              "      <th>237</th>\n",
              "      <td>17548.0</td>\n",
              "      <td>C536391</td>\n",
              "      <td>21983</td>\n",
              "      <td>PACK OF 12 BLUE PAISLEY TISSUES</td>\n",
              "      <td>-24</td>\n",
              "      <td>0.29</td>\n",
              "      <td>-6.96</td>\n",
              "      <td>2010-12-01 10:24:00</td>\n",
              "      <td>United Kingdom</td>\n",
              "    </tr>\n",
              "    <tr>\n",
              "      <th>...</th>\n",
              "      <td>...</td>\n",
              "      <td>...</td>\n",
              "      <td>...</td>\n",
              "      <td>...</td>\n",
              "      <td>...</td>\n",
              "      <td>...</td>\n",
              "      <td>...</td>\n",
              "      <td>...</td>\n",
              "      <td>...</td>\n",
              "    </tr>\n",
              "    <tr>\n",
              "      <th>540449</th>\n",
              "      <td>14397.0</td>\n",
              "      <td>C581490</td>\n",
              "      <td>23144</td>\n",
              "      <td>ZINC T-LIGHT HOLDER STARS SMALL</td>\n",
              "      <td>-11</td>\n",
              "      <td>0.83</td>\n",
              "      <td>-9.13</td>\n",
              "      <td>2011-12-09 09:57:00</td>\n",
              "      <td>United Kingdom</td>\n",
              "    </tr>\n",
              "    <tr>\n",
              "      <th>541541</th>\n",
              "      <td>15498.0</td>\n",
              "      <td>C581499</td>\n",
              "      <td>M</td>\n",
              "      <td>Manual</td>\n",
              "      <td>-1</td>\n",
              "      <td>224.69</td>\n",
              "      <td>-224.69</td>\n",
              "      <td>2011-12-09 10:28:00</td>\n",
              "      <td>United Kingdom</td>\n",
              "    </tr>\n",
              "    <tr>\n",
              "      <th>541715</th>\n",
              "      <td>15311.0</td>\n",
              "      <td>C581568</td>\n",
              "      <td>21258</td>\n",
              "      <td>VICTORIAN SEWING BOX LARGE</td>\n",
              "      <td>-5</td>\n",
              "      <td>10.95</td>\n",
              "      <td>-54.75</td>\n",
              "      <td>2011-12-09 11:57:00</td>\n",
              "      <td>United Kingdom</td>\n",
              "    </tr>\n",
              "    <tr>\n",
              "      <th>541716</th>\n",
              "      <td>17315.0</td>\n",
              "      <td>C581569</td>\n",
              "      <td>84978</td>\n",
              "      <td>HANGING HEART JAR T-LIGHT HOLDER</td>\n",
              "      <td>-1</td>\n",
              "      <td>1.25</td>\n",
              "      <td>-1.25</td>\n",
              "      <td>2011-12-09 11:58:00</td>\n",
              "      <td>United Kingdom</td>\n",
              "    </tr>\n",
              "    <tr>\n",
              "      <th>541717</th>\n",
              "      <td>17315.0</td>\n",
              "      <td>C581569</td>\n",
              "      <td>20979</td>\n",
              "      <td>36 PENCILS TUBE RED RETROSPOT</td>\n",
              "      <td>-5</td>\n",
              "      <td>1.25</td>\n",
              "      <td>-6.25</td>\n",
              "      <td>2011-12-09 11:58:00</td>\n",
              "      <td>United Kingdom</td>\n",
              "    </tr>\n",
              "  </tbody>\n",
              "</table>\n",
              "<p>10624 rows × 9 columns</p>\n",
              "</div>"
            ],
            "text/plain": [
              "        CustomerID InvoiceNo  ...         InvoiceDate         Country\n",
              "141        14527.0   C536379  ... 2010-12-01 09:41:00  United Kingdom\n",
              "154        15311.0   C536383  ... 2010-12-01 09:49:00  United Kingdom\n",
              "235        17548.0   C536391  ... 2010-12-01 10:24:00  United Kingdom\n",
              "236        17548.0   C536391  ... 2010-12-01 10:24:00  United Kingdom\n",
              "237        17548.0   C536391  ... 2010-12-01 10:24:00  United Kingdom\n",
              "...            ...       ...  ...                 ...             ...\n",
              "540449     14397.0   C581490  ... 2011-12-09 09:57:00  United Kingdom\n",
              "541541     15498.0   C581499  ... 2011-12-09 10:28:00  United Kingdom\n",
              "541715     15311.0   C581568  ... 2011-12-09 11:57:00  United Kingdom\n",
              "541716     17315.0   C581569  ... 2011-12-09 11:58:00  United Kingdom\n",
              "541717     17315.0   C581569  ... 2011-12-09 11:58:00  United Kingdom\n",
              "\n",
              "[10624 rows x 9 columns]"
            ]
          },
          "metadata": {
            "tags": []
          },
          "execution_count": 25
        }
      ]
    },
    {
      "cell_type": "code",
      "metadata": {
        "id": "n0k7Ju67--lC",
        "colab_type": "code",
        "colab": {
          "base_uri": "https://localhost:8080/",
          "height": 111
        },
        "outputId": "67048dc7-fa0c-4992-cc69-89e84073f3f3"
      },
      "source": [
        "data[data['UnitPrice']<0]"
      ],
      "execution_count": 27,
      "outputs": [
        {
          "output_type": "execute_result",
          "data": {
            "text/html": [
              "<div>\n",
              "<style scoped>\n",
              "    .dataframe tbody tr th:only-of-type {\n",
              "        vertical-align: middle;\n",
              "    }\n",
              "\n",
              "    .dataframe tbody tr th {\n",
              "        vertical-align: top;\n",
              "    }\n",
              "\n",
              "    .dataframe thead th {\n",
              "        text-align: right;\n",
              "    }\n",
              "</style>\n",
              "<table border=\"1\" class=\"dataframe\">\n",
              "  <thead>\n",
              "    <tr style=\"text-align: right;\">\n",
              "      <th></th>\n",
              "      <th>CustomerID</th>\n",
              "      <th>InvoiceNo</th>\n",
              "      <th>StockCode</th>\n",
              "      <th>Description</th>\n",
              "      <th>Quantity</th>\n",
              "      <th>UnitPrice</th>\n",
              "      <th>Total_Amount</th>\n",
              "      <th>InvoiceDate</th>\n",
              "      <th>Country</th>\n",
              "    </tr>\n",
              "  </thead>\n",
              "  <tbody>\n",
              "    <tr>\n",
              "      <th>299983</th>\n",
              "      <td>21030.0</td>\n",
              "      <td>A563186</td>\n",
              "      <td>B</td>\n",
              "      <td>Adjust bad debt</td>\n",
              "      <td>1</td>\n",
              "      <td>-11062.06</td>\n",
              "      <td>-11062.06</td>\n",
              "      <td>2011-08-12 14:51:00</td>\n",
              "      <td>United Kingdom</td>\n",
              "    </tr>\n",
              "    <tr>\n",
              "      <th>299984</th>\n",
              "      <td>20185.0</td>\n",
              "      <td>A563187</td>\n",
              "      <td>B</td>\n",
              "      <td>Adjust bad debt</td>\n",
              "      <td>1</td>\n",
              "      <td>-11062.06</td>\n",
              "      <td>-11062.06</td>\n",
              "      <td>2011-08-12 14:52:00</td>\n",
              "      <td>United Kingdom</td>\n",
              "    </tr>\n",
              "  </tbody>\n",
              "</table>\n",
              "</div>"
            ],
            "text/plain": [
              "        CustomerID InvoiceNo  ...         InvoiceDate         Country\n",
              "299983     21030.0   A563186  ... 2011-08-12 14:51:00  United Kingdom\n",
              "299984     20185.0   A563187  ... 2011-08-12 14:52:00  United Kingdom\n",
              "\n",
              "[2 rows x 9 columns]"
            ]
          },
          "metadata": {
            "tags": []
          },
          "execution_count": 27
        }
      ]
    },
    {
      "cell_type": "code",
      "metadata": {
        "id": "O_2OONDA1kvy",
        "colab_type": "code",
        "outputId": "20a2196e-504f-47cd-e424-0f0768a65c3e",
        "colab": {
          "base_uri": "https://localhost:8080/",
          "height": 204
        }
      },
      "source": [
        "data['year'] = pd.DatetimeIndex(data['InvoiceDate']).year\n",
        "data.head()"
      ],
      "execution_count": 28,
      "outputs": [
        {
          "output_type": "execute_result",
          "data": {
            "text/html": [
              "<div>\n",
              "<style scoped>\n",
              "    .dataframe tbody tr th:only-of-type {\n",
              "        vertical-align: middle;\n",
              "    }\n",
              "\n",
              "    .dataframe tbody tr th {\n",
              "        vertical-align: top;\n",
              "    }\n",
              "\n",
              "    .dataframe thead th {\n",
              "        text-align: right;\n",
              "    }\n",
              "</style>\n",
              "<table border=\"1\" class=\"dataframe\">\n",
              "  <thead>\n",
              "    <tr style=\"text-align: right;\">\n",
              "      <th></th>\n",
              "      <th>CustomerID</th>\n",
              "      <th>InvoiceNo</th>\n",
              "      <th>StockCode</th>\n",
              "      <th>Description</th>\n",
              "      <th>Quantity</th>\n",
              "      <th>UnitPrice</th>\n",
              "      <th>Total_Amount</th>\n",
              "      <th>InvoiceDate</th>\n",
              "      <th>Country</th>\n",
              "      <th>year</th>\n",
              "    </tr>\n",
              "  </thead>\n",
              "  <tbody>\n",
              "    <tr>\n",
              "      <th>0</th>\n",
              "      <td>17850.0</td>\n",
              "      <td>536365</td>\n",
              "      <td>85123A</td>\n",
              "      <td>WHITE HANGING HEART T-LIGHT HOLDER</td>\n",
              "      <td>6</td>\n",
              "      <td>2.55</td>\n",
              "      <td>15.30</td>\n",
              "      <td>2010-12-01 08:26:00</td>\n",
              "      <td>United Kingdom</td>\n",
              "      <td>2010</td>\n",
              "    </tr>\n",
              "    <tr>\n",
              "      <th>1</th>\n",
              "      <td>17850.0</td>\n",
              "      <td>536365</td>\n",
              "      <td>71053</td>\n",
              "      <td>WHITE METAL LANTERN</td>\n",
              "      <td>6</td>\n",
              "      <td>3.39</td>\n",
              "      <td>20.34</td>\n",
              "      <td>2010-12-01 08:26:00</td>\n",
              "      <td>United Kingdom</td>\n",
              "      <td>2010</td>\n",
              "    </tr>\n",
              "    <tr>\n",
              "      <th>2</th>\n",
              "      <td>17850.0</td>\n",
              "      <td>536365</td>\n",
              "      <td>84406B</td>\n",
              "      <td>CREAM CUPID HEARTS COAT HANGER</td>\n",
              "      <td>8</td>\n",
              "      <td>2.75</td>\n",
              "      <td>22.00</td>\n",
              "      <td>2010-12-01 08:26:00</td>\n",
              "      <td>United Kingdom</td>\n",
              "      <td>2010</td>\n",
              "    </tr>\n",
              "    <tr>\n",
              "      <th>3</th>\n",
              "      <td>17850.0</td>\n",
              "      <td>536365</td>\n",
              "      <td>84029G</td>\n",
              "      <td>KNITTED UNION FLAG HOT WATER BOTTLE</td>\n",
              "      <td>6</td>\n",
              "      <td>3.39</td>\n",
              "      <td>20.34</td>\n",
              "      <td>2010-12-01 08:26:00</td>\n",
              "      <td>United Kingdom</td>\n",
              "      <td>2010</td>\n",
              "    </tr>\n",
              "    <tr>\n",
              "      <th>4</th>\n",
              "      <td>17850.0</td>\n",
              "      <td>536365</td>\n",
              "      <td>84029E</td>\n",
              "      <td>RED WOOLLY HOTTIE WHITE HEART.</td>\n",
              "      <td>6</td>\n",
              "      <td>3.39</td>\n",
              "      <td>20.34</td>\n",
              "      <td>2010-12-01 08:26:00</td>\n",
              "      <td>United Kingdom</td>\n",
              "      <td>2010</td>\n",
              "    </tr>\n",
              "  </tbody>\n",
              "</table>\n",
              "</div>"
            ],
            "text/plain": [
              "   CustomerID InvoiceNo StockCode  ...         InvoiceDate         Country  year\n",
              "0     17850.0    536365    85123A  ... 2010-12-01 08:26:00  United Kingdom  2010\n",
              "1     17850.0    536365     71053  ... 2010-12-01 08:26:00  United Kingdom  2010\n",
              "2     17850.0    536365    84406B  ... 2010-12-01 08:26:00  United Kingdom  2010\n",
              "3     17850.0    536365    84029G  ... 2010-12-01 08:26:00  United Kingdom  2010\n",
              "4     17850.0    536365    84029E  ... 2010-12-01 08:26:00  United Kingdom  2010\n",
              "\n",
              "[5 rows x 10 columns]"
            ]
          },
          "metadata": {
            "tags": []
          },
          "execution_count": 28
        }
      ]
    },
    {
      "cell_type": "code",
      "metadata": {
        "id": "p7a31bEF6CBj",
        "colab_type": "code",
        "outputId": "81c8bd6a-950a-410c-a923-6b97933eaf9f",
        "colab": {
          "base_uri": "https://localhost:8080/",
          "height": 85
        }
      },
      "source": [
        "revenue=data.groupby('year')['Total_Amount'].sum()\n",
        "print(revenue)"
      ],
      "execution_count": 29,
      "outputs": [
        {
          "output_type": "stream",
          "text": [
            "year\n",
            "2010    7.489570e+05\n",
            "2011    8.998791e+06\n",
            "Name: Total_Amount, dtype: float64\n"
          ],
          "name": "stdout"
        }
      ]
    },
    {
      "cell_type": "code",
      "metadata": {
        "id": "yFdtSsnq1knW",
        "colab_type": "code",
        "outputId": "be23d0a9-6ff3-4a24-f448-c6c75298ec35",
        "colab": {
          "base_uri": "https://localhost:8080/",
          "height": 323
        }
      },
      "source": [
        "plt=revenue.plot(kind='bar')\n",
        "plt.set_xlabel('year')\n",
        "plt.set_ylabel('revenue generated')"
      ],
      "execution_count": 30,
      "outputs": [
        {
          "output_type": "execute_result",
          "data": {
            "text/plain": [
              "Text(0, 0.5, 'revenue generated')"
            ]
          },
          "metadata": {
            "tags": []
          },
          "execution_count": 30
        },
        {
          "output_type": "display_data",
          "data": {
            "image/png": "[encoded data removed]",
            "text/plain": [
              "<Figure size 432x288 with 1 Axes>"
            ]
          },
          "metadata": {
            "tags": [],
            "needs_background": "light"
          }
        }
      ]
    },
    {
      "cell_type": "code",
      "metadata": {
        "id": "NiEx2cuS1kh8",
        "colab_type": "code",
        "outputId": "7a0fec35-496a-4568-e921-b4006266b25b",
        "colab": {
          "base_uri": "https://localhost:8080/",
          "height": 289
        }
      },
      "source": [
        "data['month']=pd.DatetimeIndex(data['InvoiceDate']).month\n",
        "data['month_name']=pd.DatetimeIndex(data['InvoiceDate']).month_name()\n",
        "data.head()"
      ],
      "execution_count": 31,
      "outputs": [
        {
          "output_type": "execute_result",
          "data": {
            "text/html": [
              "<div>\n",
              "<style scoped>\n",
              "    .dataframe tbody tr th:only-of-type {\n",
              "        vertical-align: middle;\n",
              "    }\n",
              "\n",
              "    .dataframe tbody tr th {\n",
              "        vertical-align: top;\n",
              "    }\n",
              "\n",
              "    .dataframe thead th {\n",
              "        text-align: right;\n",
              "    }\n",
              "</style>\n",
              "<table border=\"1\" class=\"dataframe\">\n",
              "  <thead>\n",
              "    <tr style=\"text-align: right;\">\n",
              "      <th></th>\n",
              "      <th>CustomerID</th>\n",
              "      <th>InvoiceNo</th>\n",
              "      <th>StockCode</th>\n",
              "      <th>Description</th>\n",
              "      <th>Quantity</th>\n",
              "      <th>UnitPrice</th>\n",
              "      <th>Total_Amount</th>\n",
              "      <th>InvoiceDate</th>\n",
              "      <th>Country</th>\n",
              "      <th>year</th>\n",
              "      <th>month</th>\n",
              "      <th>month_name</th>\n",
              "    </tr>\n",
              "  </thead>\n",
              "  <tbody>\n",
              "    <tr>\n",
              "      <th>0</th>\n",
              "      <td>17850.0</td>\n",
              "      <td>536365</td>\n",
              "      <td>85123A</td>\n",
              "      <td>WHITE HANGING HEART T-LIGHT HOLDER</td>\n",
              "      <td>6</td>\n",
              "      <td>2.55</td>\n",
              "      <td>15.30</td>\n",
              "      <td>2010-12-01 08:26:00</td>\n",
              "      <td>United Kingdom</td>\n",
              "      <td>2010</td>\n",
              "      <td>12</td>\n",
              "      <td>December</td>\n",
              "    </tr>\n",
              "    <tr>\n",
              "      <th>1</th>\n",
              "      <td>17850.0</td>\n",
              "      <td>536365</td>\n",
              "      <td>71053</td>\n",
              "      <td>WHITE METAL LANTERN</td>\n",
              "      <td>6</td>\n",
              "      <td>3.39</td>\n",
              "      <td>20.34</td>\n",
              "      <td>2010-12-01 08:26:00</td>\n",
              "      <td>United Kingdom</td>\n",
              "      <td>2010</td>\n",
              "      <td>12</td>\n",
              "      <td>December</td>\n",
              "    </tr>\n",
              "    <tr>\n",
              "      <th>2</th>\n",
              "      <td>17850.0</td>\n",
              "      <td>536365</td>\n",
              "      <td>84406B</td>\n",
              "      <td>CREAM CUPID HEARTS COAT HANGER</td>\n",
              "      <td>8</td>\n",
              "      <td>2.75</td>\n",
              "      <td>22.00</td>\n",
              "      <td>2010-12-01 08:26:00</td>\n",
              "      <td>United Kingdom</td>\n",
              "      <td>2010</td>\n",
              "      <td>12</td>\n",
              "      <td>December</td>\n",
              "    </tr>\n",
              "    <tr>\n",
              "      <th>3</th>\n",
              "      <td>17850.0</td>\n",
              "      <td>536365</td>\n",
              "      <td>84029G</td>\n",
              "      <td>KNITTED UNION FLAG HOT WATER BOTTLE</td>\n",
              "      <td>6</td>\n",
              "      <td>3.39</td>\n",
              "      <td>20.34</td>\n",
              "      <td>2010-12-01 08:26:00</td>\n",
              "      <td>United Kingdom</td>\n",
              "      <td>2010</td>\n",
              "      <td>12</td>\n",
              "      <td>December</td>\n",
              "    </tr>\n",
              "    <tr>\n",
              "      <th>4</th>\n",
              "      <td>17850.0</td>\n",
              "      <td>536365</td>\n",
              "      <td>84029E</td>\n",
              "      <td>RED WOOLLY HOTTIE WHITE HEART.</td>\n",
              "      <td>6</td>\n",
              "      <td>3.39</td>\n",
              "      <td>20.34</td>\n",
              "      <td>2010-12-01 08:26:00</td>\n",
              "      <td>United Kingdom</td>\n",
              "      <td>2010</td>\n",
              "      <td>12</td>\n",
              "      <td>December</td>\n",
              "    </tr>\n",
              "  </tbody>\n",
              "</table>\n",
              "</div>"
            ],
            "text/plain": [
              "   CustomerID InvoiceNo StockCode  ...  year  month  month_name\n",
              "0     17850.0    536365    85123A  ...  2010     12    December\n",
              "1     17850.0    536365     71053  ...  2010     12    December\n",
              "2     17850.0    536365    84406B  ...  2010     12    December\n",
              "3     17850.0    536365    84029G  ...  2010     12    December\n",
              "4     17850.0    536365    84029E  ...  2010     12    December\n",
              "\n",
              "[5 rows x 12 columns]"
            ]
          },
          "metadata": {
            "tags": []
          },
          "execution_count": 31
        }
      ]
    },
    {
      "cell_type": "code",
      "metadata": {
        "id": "MwRXmw3C1kcf",
        "colab_type": "code",
        "outputId": "1dd90071-7434-4bf6-9d34-eaedaa4b01b5",
        "colab": {
          "base_uri": "https://localhost:8080/",
          "height": 272
        }
      },
      "source": [
        "print(data.groupby(['month','year'])['Total_Amount'].sum())"
      ],
      "execution_count": 32,
      "outputs": [
        {
          "output_type": "stream",
          "text": [
            "month  year\n",
            "1      2011     560000.260\n",
            "2      2011     498062.650\n",
            "3      2011     683267.080\n",
            "4      2011     493207.121\n",
            "5      2011     723333.510\n",
            "6      2011     691123.120\n",
            "7      2011     681300.111\n",
            "8      2011     682680.510\n",
            "9      2011    1019687.622\n",
            "10     2011    1070704.670\n",
            "11     2011    1461756.250\n",
            "12     2010     748957.020\n",
            "       2011     433668.010\n",
            "Name: Total_Amount, dtype: float64\n"
          ],
          "name": "stdout"
        }
      ]
    },
    {
      "cell_type": "code",
      "metadata": {
        "id": "uMpyojjoyax8",
        "colab_type": "code",
        "outputId": "b9b2e877-bd89-4fde-d4fb-cb6d3894bb9d",
        "colab": {
          "base_uri": "https://localhost:8080/",
          "height": 289
        }
      },
      "source": [
        "data.head()"
      ],
      "execution_count": 33,
      "outputs": [
        {
          "output_type": "execute_result",
          "data": {
            "text/html": [
              "<div>\n",
              "<style scoped>\n",
              "    .dataframe tbody tr th:only-of-type {\n",
              "        vertical-align: middle;\n",
              "    }\n",
              "\n",
              "    .dataframe tbody tr th {\n",
              "        vertical-align: top;\n",
              "    }\n",
              "\n",
              "    .dataframe thead th {\n",
              "        text-align: right;\n",
              "    }\n",
              "</style>\n",
              "<table border=\"1\" class=\"dataframe\">\n",
              "  <thead>\n",
              "    <tr style=\"text-align: right;\">\n",
              "      <th></th>\n",
              "      <th>CustomerID</th>\n",
              "      <th>InvoiceNo</th>\n",
              "      <th>StockCode</th>\n",
              "      <th>Description</th>\n",
              "      <th>Quantity</th>\n",
              "      <th>UnitPrice</th>\n",
              "      <th>Total_Amount</th>\n",
              "      <th>InvoiceDate</th>\n",
              "      <th>Country</th>\n",
              "      <th>year</th>\n",
              "      <th>month</th>\n",
              "      <th>month_name</th>\n",
              "    </tr>\n",
              "  </thead>\n",
              "  <tbody>\n",
              "    <tr>\n",
              "      <th>0</th>\n",
              "      <td>17850.0</td>\n",
              "      <td>536365</td>\n",
              "      <td>85123A</td>\n",
              "      <td>WHITE HANGING HEART T-LIGHT HOLDER</td>\n",
              "      <td>6</td>\n",
              "      <td>2.55</td>\n",
              "      <td>15.30</td>\n",
              "      <td>2010-12-01 08:26:00</td>\n",
              "      <td>United Kingdom</td>\n",
              "      <td>2010</td>\n",
              "      <td>12</td>\n",
              "      <td>December</td>\n",
              "    </tr>\n",
              "    <tr>\n",
              "      <th>1</th>\n",
              "      <td>17850.0</td>\n",
              "      <td>536365</td>\n",
              "      <td>71053</td>\n",
              "      <td>WHITE METAL LANTERN</td>\n",
              "      <td>6</td>\n",
              "      <td>3.39</td>\n",
              "      <td>20.34</td>\n",
              "      <td>2010-12-01 08:26:00</td>\n",
              "      <td>United Kingdom</td>\n",
              "      <td>2010</td>\n",
              "      <td>12</td>\n",
              "      <td>December</td>\n",
              "    </tr>\n",
              "    <tr>\n",
              "      <th>2</th>\n",
              "      <td>17850.0</td>\n",
              "      <td>536365</td>\n",
              "      <td>84406B</td>\n",
              "      <td>CREAM CUPID HEARTS COAT HANGER</td>\n",
              "      <td>8</td>\n",
              "      <td>2.75</td>\n",
              "      <td>22.00</td>\n",
              "      <td>2010-12-01 08:26:00</td>\n",
              "      <td>United Kingdom</td>\n",
              "      <td>2010</td>\n",
              "      <td>12</td>\n",
              "      <td>December</td>\n",
              "    </tr>\n",
              "    <tr>\n",
              "      <th>3</th>\n",
              "      <td>17850.0</td>\n",
              "      <td>536365</td>\n",
              "      <td>84029G</td>\n",
              "      <td>KNITTED UNION FLAG HOT WATER BOTTLE</td>\n",
              "      <td>6</td>\n",
              "      <td>3.39</td>\n",
              "      <td>20.34</td>\n",
              "      <td>2010-12-01 08:26:00</td>\n",
              "      <td>United Kingdom</td>\n",
              "      <td>2010</td>\n",
              "      <td>12</td>\n",
              "      <td>December</td>\n",
              "    </tr>\n",
              "    <tr>\n",
              "      <th>4</th>\n",
              "      <td>17850.0</td>\n",
              "      <td>536365</td>\n",
              "      <td>84029E</td>\n",
              "      <td>RED WOOLLY HOTTIE WHITE HEART.</td>\n",
              "      <td>6</td>\n",
              "      <td>3.39</td>\n",
              "      <td>20.34</td>\n",
              "      <td>2010-12-01 08:26:00</td>\n",
              "      <td>United Kingdom</td>\n",
              "      <td>2010</td>\n",
              "      <td>12</td>\n",
              "      <td>December</td>\n",
              "    </tr>\n",
              "  </tbody>\n",
              "</table>\n",
              "</div>"
            ],
            "text/plain": [
              "   CustomerID InvoiceNo StockCode  ...  year  month  month_name\n",
              "0     17850.0    536365    85123A  ...  2010     12    December\n",
              "1     17850.0    536365     71053  ...  2010     12    December\n",
              "2     17850.0    536365    84406B  ...  2010     12    December\n",
              "3     17850.0    536365    84029G  ...  2010     12    December\n",
              "4     17850.0    536365    84029E  ...  2010     12    December\n",
              "\n",
              "[5 rows x 12 columns]"
            ]
          },
          "metadata": {
            "tags": []
          },
          "execution_count": 33
        }
      ]
    },
    {
      "cell_type": "code",
      "metadata": {
        "id": "GEuCRMKi1kS1",
        "colab_type": "code",
        "outputId": "a5640770-673e-40ed-ff58-e8b6eeeb8429",
        "colab": {
          "base_uri": "https://localhost:8080/",
          "height": 349
        }
      },
      "source": [
        "plt=data.groupby(['year','month'])['Total_Amount'].sum().plot(kind='bar')\n",
        "plt.set_xlabel('Month and year')\n",
        "plt.set_ylabel('Amount generated')"
      ],
      "execution_count": 34,
      "outputs": [
        {
          "output_type": "execute_result",
          "data": {
            "text/plain": [
              "Text(0, 0.5, 'Amount generated')"
            ]
          },
          "metadata": {
            "tags": []
          },
          "execution_count": 34
        },
        {
          "output_type": "display_data",
          "data": {
            "image/png": "[encoded data removed]",
            "text/plain": [
              "<Figure size 432x288 with 1 Axes>"
            ]
          },
          "metadata": {
            "tags": [],
            "needs_background": "light"
          }
        }
      ]
    },
    {
      "cell_type": "code",
      "metadata": {
        "id": "QIv0vdAxTh4I",
        "colab_type": "code",
        "outputId": "40de3ff8-655c-4101-ae13-8eb650e5ce9b",
        "colab": {
          "base_uri": "https://localhost:8080/",
          "height": 102
        }
      },
      "source": [
        "print(len(data['CustomerID'].unique()))\n",
        "print(len(data['InvoiceNo'].unique()))\n",
        "print(len(data['StockCode'].unique()))\n",
        "print(len(data['Country'].unique()))\n",
        "print(len(data['Description'].unique()))"
      ],
      "execution_count": 71,
      "outputs": [
        {
          "output_type": "stream",
          "text": [
            "6705\n",
            "25900\n",
            "4070\n",
            "38\n",
            "4224\n"
          ],
          "name": "stdout"
        }
      ]
    },
    {
      "cell_type": "code",
      "metadata": {
        "id": "Lr0XI4Iw1_-M",
        "colab_type": "code",
        "outputId": "f800e143-ccda-4e20-e6ff-1a7d4151b8cb",
        "colab": {
          "base_uri": "https://localhost:8080/",
          "height": 153
        }
      },
      "source": [
        "data['Country'].unique()"
      ],
      "execution_count": 36,
      "outputs": [
        {
          "output_type": "execute_result",
          "data": {
            "text/plain": [
              "array(['United Kingdom', 'France', 'Australia', 'Netherlands', 'Germany',\n",
              "       'Norway', 'EIRE', 'Switzerland', 'Spain', 'Poland', 'Portugal',\n",
              "       'Italy', 'Belgium', 'Lithuania', 'Japan', 'Iceland',\n",
              "       'Channel Islands', 'Denmark', 'Cyprus', 'Sweden', 'Austria',\n",
              "       'Israel', 'Finland', 'Bahrain', 'Greece', 'Hong Kong', 'Singapore',\n",
              "       'Lebanon', 'United Arab Emirates', 'Saudi Arabia',\n",
              "       'Czech Republic', 'Canada', 'Unspecified', 'Brazil', 'USA',\n",
              "       'European Community', 'Malta', 'RSA'], dtype=object)"
            ]
          },
          "metadata": {
            "tags": []
          },
          "execution_count": 36
        }
      ]
    },
    {
      "cell_type": "code",
      "metadata": {
        "id": "NlScTVm-ScXf",
        "colab_type": "code",
        "outputId": "aed3d8b6-9426-4d1b-dd66-e9e135e4f595",
        "colab": {
          "base_uri": "https://localhost:8080/",
          "height": 34
        }
      },
      "source": [
        "len(data['Country'].unique())"
      ],
      "execution_count": 37,
      "outputs": [
        {
          "output_type": "execute_result",
          "data": {
            "text/plain": [
              "38"
            ]
          },
          "metadata": {
            "tags": []
          },
          "execution_count": 37
        }
      ]
    },
    {
      "cell_type": "code",
      "metadata": {
        "id": "PSnhDpxJ1_7D",
        "colab_type": "code",
        "outputId": "9fa0fcf8-b41b-418e-f125-fc4b5510a1b5",
        "colab": {
          "base_uri": "https://localhost:8080/",
          "height": 721
        }
      },
      "source": [
        "plt=data['Country'].value_counts().plot.bar(figsize = (20, 10))\n",
        "plt.set_xlabel('Names of Countries')\n",
        "plt.set_ylabel('Count')"
      ],
      "execution_count": 48,
      "outputs": [
        {
          "output_type": "execute_result",
          "data": {
            "text/plain": [
              "Text(0, 0.5, 'Count')"
            ]
          },
          "metadata": {
            "tags": []
          },
          "execution_count": 48
        },
        {
          "output_type": "display_data",
          "data": {
            "image/png": "[encoded data removed]",
            "text/plain": [
              "<Figure size 1440x720 with 1 Axes>"
            ]
          },
          "metadata": {
            "tags": [],
            "needs_background": "light"
          }
        }
      ]
    },
    {
      "cell_type": "code",
      "metadata": {
        "id": "EVXjYf7A1_3x",
        "colab_type": "code",
        "outputId": "acb012f3-6e5e-4b08-ef58-2a4d4cf15887",
        "colab": {
          "base_uri": "https://localhost:8080/",
          "height": 697
        }
      },
      "source": [
        "country_revenue=data.groupby('Country')['Total_Amount'].sum().sort_values(ascending = False)\n",
        "print(country_revenue)"
      ],
      "execution_count": 42,
      "outputs": [
        {
          "output_type": "stream",
          "text": [
            "Country\n",
            "United Kingdom          8.187806e+06\n",
            "Netherlands             2.846615e+05\n",
            "EIRE                    2.632768e+05\n",
            "Germany                 2.216982e+05\n",
            "France                  1.974039e+05\n",
            "Australia               1.370773e+05\n",
            "Switzerland             5.638535e+04\n",
            "Spain                   5.477458e+04\n",
            "Belgium                 4.091096e+04\n",
            "Sweden                  3.659591e+04\n",
            "Japan                   3.534062e+04\n",
            "Norway                  3.516346e+04\n",
            "Portugal                2.936702e+04\n",
            "Finland                 2.232674e+04\n",
            "Channel Islands         2.008629e+04\n",
            "Denmark                 1.876814e+04\n",
            "Italy                   1.689051e+04\n",
            "Cyprus                  1.294629e+04\n",
            "Austria                 1.015432e+04\n",
            "Hong Kong               1.011704e+04\n",
            "Singapore               9.120390e+03\n",
            "Israel                  7.907820e+03\n",
            "Poland                  7.213140e+03\n",
            "Unspecified             4.749790e+03\n",
            "Greece                  4.710520e+03\n",
            "Iceland                 4.310000e+03\n",
            "Canada                  3.666380e+03\n",
            "Malta                   2.505470e+03\n",
            "United Arab Emirates    1.902280e+03\n",
            "USA                     1.730920e+03\n",
            "Lebanon                 1.693880e+03\n",
            "Lithuania               1.661060e+03\n",
            "European Community      1.291750e+03\n",
            "Brazil                  1.143600e+03\n",
            "RSA                     1.002310e+03\n",
            "Czech Republic          7.077200e+02\n",
            "Bahrain                 5.484000e+02\n",
            "Saudi Arabia            1.311700e+02\n",
            "Name: Total_Amount, dtype: float64\n"
          ],
          "name": "stdout"
        }
      ]
    },
    {
      "cell_type": "code",
      "metadata": {
        "id": "9CgJYwj41_0b",
        "colab_type": "code",
        "colab": {
          "base_uri": "https://localhost:8080/",
          "height": 486
        },
        "outputId": "34d1872d-a08f-42b9-9d8e-84b755926a64"
      },
      "source": [
        "plt=country_revenue[:10].plot.bar(figsize=(10,6))\n",
        "plt.set_xlabel('Countries')\n",
        "plt.set_ylabel('Revenue generated')"
      ],
      "execution_count": 60,
      "outputs": [
        {
          "output_type": "execute_result",
          "data": {
            "text/plain": [
              "Text(0, 0.5, 'Revenue generated')"
            ]
          },
          "metadata": {
            "tags": []
          },
          "execution_count": 60
        },
        {
          "output_type": "display_data",
          "data": {
            "image/png": "[encoded data removed]",
            "text/plain": [
              "<Figure size 720x432 with 1 Axes>"
            ]
          },
          "metadata": {
            "tags": [],
            "needs_background": "light"
          }
        }
      ]
    },
    {
      "cell_type": "code",
      "metadata": {
        "id": "UOwSC_qX1_w9",
        "colab_type": "code",
        "colab": {
          "base_uri": "https://localhost:8080/",
          "height": 697
        },
        "outputId": "8e463f05-df6f-4c03-a5be-8e75fb67a3a0"
      },
      "source": [
        "quantity_ordered=data.groupby('Country')['Quantity'].sum().sort_values(ascending = False)\n",
        "print(quantity_ordered)"
      ],
      "execution_count": 61,
      "outputs": [
        {
          "output_type": "stream",
          "text": [
            "Country\n",
            "United Kingdom          4263829\n",
            "Netherlands              200128\n",
            "EIRE                     142637\n",
            "Germany                  117448\n",
            "France                   110480\n",
            "Australia                 83653\n",
            "Sweden                    35637\n",
            "Switzerland               30325\n",
            "Spain                     26824\n",
            "Japan                     25218\n",
            "Belgium                   23152\n",
            "Norway                    19247\n",
            "Portugal                  16180\n",
            "Finland                   10666\n",
            "Channel Islands            9479\n",
            "Denmark                    8188\n",
            "Italy                      7999\n",
            "Cyprus                     6317\n",
            "Singapore                  5234\n",
            "Austria                    4827\n",
            "Hong Kong                  4769\n",
            "Israel                     4353\n",
            "Poland                     3653\n",
            "Unspecified                3300\n",
            "Canada                     2763\n",
            "Iceland                    2458\n",
            "Greece                     1556\n",
            "USA                        1034\n",
            "United Arab Emirates        982\n",
            "Malta                       944\n",
            "Lithuania                   652\n",
            "Czech Republic              592\n",
            "European Community          497\n",
            "Lebanon                     386\n",
            "Brazil                      356\n",
            "RSA                         352\n",
            "Bahrain                     260\n",
            "Saudi Arabia                 75\n",
            "Name: Quantity, dtype: int64\n"
          ],
          "name": "stdout"
        }
      ]
    },
    {
      "cell_type": "code",
      "metadata": {
        "id": "azokkl4v1_tc",
        "colab_type": "code",
        "colab": {
          "base_uri": "https://localhost:8080/",
          "height": 697
        },
        "outputId": "040c7f4b-4900-4353-b39a-f46ecd13df90"
      },
      "source": [
        "Noofcustomer=data.groupby('Country')['CustomerID'].count().sort_values(ascending = False)\n",
        "print(Noofcustomer)"
      ],
      "execution_count": 62,
      "outputs": [
        {
          "output_type": "stream",
          "text": [
            "Country\n",
            "United Kingdom          495478\n",
            "Germany                   9495\n",
            "France                    8557\n",
            "EIRE                      8196\n",
            "Spain                     2533\n",
            "Netherlands               2371\n",
            "Belgium                   2069\n",
            "Switzerland               2002\n",
            "Portugal                  1519\n",
            "Australia                 1259\n",
            "Norway                    1086\n",
            "Italy                      803\n",
            "Channel Islands            758\n",
            "Finland                    695\n",
            "Cyprus                     622\n",
            "Sweden                     462\n",
            "Unspecified                446\n",
            "Austria                    401\n",
            "Denmark                    389\n",
            "Japan                      358\n",
            "Poland                     341\n",
            "Israel                     297\n",
            "USA                        291\n",
            "Hong Kong                  288\n",
            "Singapore                  229\n",
            "Iceland                    182\n",
            "Canada                     151\n",
            "Greece                     146\n",
            "Malta                      127\n",
            "United Arab Emirates        68\n",
            "European Community          61\n",
            "RSA                         58\n",
            "Lebanon                     45\n",
            "Lithuania                   35\n",
            "Brazil                      32\n",
            "Czech Republic              30\n",
            "Bahrain                     19\n",
            "Saudi Arabia                10\n",
            "Name: CustomerID, dtype: int64\n"
          ],
          "name": "stdout"
        }
      ]
    },
    {
      "cell_type": "code",
      "metadata": {
        "id": "Q7dyUOXzMMlb",
        "colab_type": "code",
        "colab": {
          "base_uri": "https://localhost:8080/",
          "height": 1000
        },
        "outputId": "11dcfa30-48c6-4742-fc77-a1636a9bcb4f"
      },
      "source": [
        "data['Description'].unique()[:222]"
      ],
      "execution_count": 76,
      "outputs": [
        {
          "output_type": "execute_result",
          "data": {
            "text/plain": [
              "array(['WHITE HANGING HEART T-LIGHT HOLDER', 'WHITE METAL LANTERN',\n",
              "       'CREAM CUPID HEARTS COAT HANGER',\n",
              "       'KNITTED UNION FLAG HOT WATER BOTTLE',\n",
              "       'RED WOOLLY HOTTIE WHITE HEART.', 'SET 7 BABUSHKA NESTING BOXES',\n",
              "       'GLASS STAR FROSTED T-LIGHT HOLDER', 'HAND WARMER UNION JACK',\n",
              "       'HAND WARMER RED POLKA DOT', 'ASSORTED COLOUR BIRD ORNAMENT',\n",
              "       \"POPPY'S PLAYHOUSE BEDROOM \", \"POPPY'S PLAYHOUSE KITCHEN\",\n",
              "       'FELTCRAFT PRINCESS CHARLOTTE DOLL', 'IVORY KNITTED MUG COSY ',\n",
              "       'BOX OF 6 ASSORTED COLOUR TEASPOONS',\n",
              "       'BOX OF VINTAGE JIGSAW BLOCKS ', 'BOX OF VINTAGE ALPHABET BLOCKS',\n",
              "       'HOME BUILDING BLOCK WORD', 'LOVE BUILDING BLOCK WORD',\n",
              "       'RECIPE BOX WITH METAL HEART', 'DOORMAT NEW ENGLAND',\n",
              "       'JAM MAKING SET WITH JARS', 'RED COAT RACK PARIS FASHION',\n",
              "       'YELLOW COAT RACK PARIS FASHION', 'BLUE COAT RACK PARIS FASHION',\n",
              "       'BATH BUILDING BLOCK WORD', 'ALARM CLOCK BAKELIKE PINK',\n",
              "       'ALARM CLOCK BAKELIKE RED ', 'ALARM CLOCK BAKELIKE GREEN',\n",
              "       'PANDA AND BUNNIES STICKER SHEET', 'STARS GIFT TAPE ',\n",
              "       'INFLATABLE POLITICAL GLOBE ',\n",
              "       'VINTAGE HEADS AND TAILS CARD GAME ',\n",
              "       'SET/2 RED RETROSPOT TEA TOWELS ',\n",
              "       'ROUND SNACK BOXES SET OF4 WOODLAND ', 'SPACEBOY LUNCH BOX ',\n",
              "       'LUNCH BOX I LOVE LONDON', 'CIRCUS PARADE LUNCH BOX ',\n",
              "       'CHARLOTTE BAG DOLLY GIRL DESIGN', 'RED TOADSTOOL LED NIGHT LIGHT',\n",
              "       ' SET 2 TEA TOWELS I LOVE LONDON ',\n",
              "       'VINTAGE SEASIDE JIGSAW PUZZLES', 'MINI JIGSAW CIRCUS PARADE ',\n",
              "       'MINI JIGSAW SPACEBOY', 'MINI PAINT SET VINTAGE ', 'POSTAGE',\n",
              "       \"PAPER CHAIN KIT 50'S CHRISTMAS \", 'EDWARDIAN PARASOL RED',\n",
              "       'RETRO COFFEE MUGS ASSORTED', 'SAVE THE PLANET MUG',\n",
              "       'VINTAGE BILLBOARD DRINK ME MUG',\n",
              "       'VINTAGE BILLBOARD LOVE/HATE MUG',\n",
              "       'WOOD 2 DRAWER CABINET WHITE FINISH',\n",
              "       'WOOD S/3 CABINET ANT WHITE FINISH',\n",
              "       'WOODEN PICTURE FRAME WHITE FINISH', 'WOODEN FRAME ANTIQUE WHITE ',\n",
              "       'VICTORIAN SEWING BOX LARGE', 'HOT WATER BOTTLE TEA AND SYMPATHY',\n",
              "       'RED HANGING HEART T-LIGHT HOLDER', 'JUMBO BAG PINK POLKADOT',\n",
              "       'JUMBO  BAG BAROQUE BLACK WHITE',\n",
              "       'JUMBO BAG CHARLIE AND LOLA TOYS', 'STRAWBERRY CHARLOTTE BAG',\n",
              "       'RED 3 PIECE RETROSPOT CUTLERY SET',\n",
              "       'BLUE 3 PIECE POLKADOT CUTLERY SET',\n",
              "       'SET/6 RED SPOTTY PAPER PLATES', 'LUNCH BAG RED RETROSPOT',\n",
              "       'STRAWBERRY LUNCH BOX WITH CUTLERY',\n",
              "       'LUNCH BOX WITH CUTLERY RETROSPOT ',\n",
              "       'PACK OF 72 RETROSPOT CAKE CASES',\n",
              "       'PACK OF 60 DINOSAUR CAKE CASES',\n",
              "       'PACK OF 60 PINK PAISLEY CAKE CASES',\n",
              "       '60 TEATIME FAIRY CAKE CASES', 'TOMATO CHARLIE+LOLA COASTER SET',\n",
              "       'CHARLIE & LOLA WASTEPAPER BIN FLORA',\n",
              "       'RED CHARLIE+LOLA PERSONAL DOORSIGN', 'JUMBO STORAGE BAG SUKI',\n",
              "       'JUMBO BAG PINK VINTAGE PAISLEY', 'JAM MAKING SET PRINTED',\n",
              "       'RETROSPOT TEA SET CERAMIC 11 PC ', 'GIRLY PINK TOOL SET',\n",
              "       'JUMBO SHOPPER VINTAGE RED PAISLEY', 'AIRLINE LOUNGE,METAL SIGN',\n",
              "       'WHITE SPOT RED CERAMIC DRAWER KNOB',\n",
              "       'RED DRAWER KNOB ACRYLIC EDWARDIAN',\n",
              "       'CLEAR DRAWER KNOB ACRYLIC EDWARDIAN', 'PHOTO CLIP LINE',\n",
              "       'FELT EGG COSY CHICKEN', 'PIGGY BANK RETROSPOT ',\n",
              "       'SKULL SHOULDER BAG', \"YOU'RE CONFUSING ME METAL SIGN \",\n",
              "       'COOK WITH WINE METAL SIGN ', 'GIN + TONIC DIET METAL SIGN',\n",
              "       'YELLOW BREAKFAST CUP AND SAUCER',\n",
              "       'PINK BREAKFAST CUP AND SAUCER ', 'PAPER CHAIN KIT RETROSPOT',\n",
              "       'SMALL HEART FLOWERS HOOK ', 'TEA TIME DES TEA COSY',\n",
              "       'FELT EGG COSY WHITE RABBIT ', 'ZINC WILLIE WINKIE  CANDLE STICK',\n",
              "       'CERAMIC CHERRY CAKE MONEY BANK', 'RETROSPOT LARGE MILK JUG',\n",
              "       'SET OF 6 FUNKY BEAKERS', 'EDWARDIAN PARASOL BLACK',\n",
              "       'EDWARDIAN PARASOL NATURAL', 'CERAMIC STRAWBERRY CAKE MONEY BANK',\n",
              "       'BLUE OWL SOFT TOY', 'BALLOON ART MAKE YOUR OWN FLOWERS',\n",
              "       'GLASS CLOCHE SMALL', 'GUMBALL MONOCHROME COAT RACK',\n",
              "       'DOORMAT FANCY FONT HOME SWEET HOME', 'Discount',\n",
              "       'VINTAGE SNAKES & LADDERS', 'CHOCOLATE CALCULATOR',\n",
              "       'RECYCLING BAG RETROSPOT ', 'TOY TIDY PINK POLKADOT',\n",
              "       'ANTIQUE GLASS DRESSING TABLE POT',\n",
              "       'IVORY GIANT GARDEN THERMOMETER',\n",
              "       '3 TIER CAKE TIN GREEN AND CREAM', '3 TIER CAKE TIN RED AND CREAM',\n",
              "       'SET 3 WICKER OVAL BASKETS W LIDS',\n",
              "       'SET OF 3 COLOURED  FLYING DUCKS',\n",
              "       'WOOD BLACK BOARD ANT WHITE FINISH',\n",
              "       'COLOUR GLASS T-LIGHT HOLDER HANGING',\n",
              "       'HANGING METAL HEART LANTERN', 'HANGING MEDINA LANTERN SMALL',\n",
              "       'NATURAL SLATE HEART CHALKBOARD ', 'HEART OF WICKER SMALL',\n",
              "       'HEART OF WICKER LARGE', 'WHITE LOVEBIRD LANTERN',\n",
              "       'CLASSIC METAL BIRDCAGE PLANT HOLDER', 'CREAM HEART CARD HOLDER',\n",
              "       'ENAMEL FLOWER JUG CREAM', 'ENAMEL FIRE BUCKET CREAM',\n",
              "       'ENAMEL BREAD BIN CREAM', 'JUMBO BAG DOLLY GIRL DESIGN',\n",
              "       'TRADITIONAL CHRISTMAS RIBBONS', 'ORGANISER WOOD ANTIQUE WHITE ',\n",
              "       'LUNCH BAG DOLLY GIRL DESIGN', 'WHITE WIRE EGG HOLDER',\n",
              "       'JUMBO BAG RED RETROSPOT', 'CHILLI LIGHTS',\n",
              "       'LIGHT GARLAND BUTTERFILES PINK', 'WOODEN OWLS LIGHT GARLAND ',\n",
              "       'FAIRY TALE COTTAGE NIGHTLIGHT', 'HOME SMALL WOOD LETTERS',\n",
              "       'GINGHAM HEART  DOORSTOP RED', 'FIVE HEART HANGING DECORATION',\n",
              "       'ASSORTED BOTTLE TOP  MAGNETS ',\n",
              "       'FRIDGE MAGNETS US DINER ASSORTED', 'HOMEMADE JAM SCENTED CANDLES',\n",
              "       'FRIDGE MAGNETS LES ENFANTS ASSORTED', 'ROSE CARAVAN DOORSTOP',\n",
              "       '5 HOOK HANGER MAGIC TOADSTOOL', 'CHRISTMAS LIGHTS 10 REINDEER',\n",
              "       'VINTAGE UNION JACK CUSHION COVER', 'SET OF 3 GOLD FLYING DUCKS',\n",
              "       'RED RETROSPOT UMBRELLA', 'BLACK/BLUE POLKADOT UMBRELLA',\n",
              "       'RED DINER WALL CLOCK', 'BLUE DINER WALL CLOCK',\n",
              "       'IVORY DINER WALL CLOCK', 'LARGE HEART MEASURING SPOONS',\n",
              "       'SMALL HEART MEASURING SPOONS', 'JAM JAR WITH PINK LID',\n",
              "       'JAM JAR WITH GREEN LID', 'ROSE COTTAGE KEEPSAKE BOX ',\n",
              "       'HANGING HEART ZINC T-LIGHT HOLDER',\n",
              "       'PAPER CHAIN KIT VINTAGE CHRISTMAS',\n",
              "       'DISCO BALL CHRISTMAS DECORATION', 'SMALL POPCORN HOLDER',\n",
              "       'LARGE POPCORN HOLDER ', 'SET/20 RED RETROSPOT PAPER NAPKINS ',\n",
              "       'SET/6 RED SPOTTY PAPER CUPS', 'POLKADOT RAIN HAT ',\n",
              "       'DELUXE SEWING KIT ', 'RETROSPOT HEART HOT WATER BOTTLE',\n",
              "       'ENGLISH ROSE HOT WATER BOTTLE', 'PHOTO CUBE',\n",
              "       'PLASTERS IN TIN CIRCUS PARADE ',\n",
              "       'PACK OF 12 PINK PAISLEY TISSUES ',\n",
              "       'PACK OF 12 BLUE PAISLEY TISSUES ',\n",
              "       'PACK OF 12 RED RETROSPOT TISSUES ', 'CHICK GREY HOT WATER BOTTLE',\n",
              "       'PLASTERS IN TIN VINTAGE PAISLEY ', 'PLASTERS IN TIN SKULLS',\n",
              "       '3 STRIPEY MICE FELTCRAFT', 'SET OF 6 SOLDIER SKITTLES',\n",
              "       'TRADITIONAL WOODEN SKIPPING ROPE', 'WOODEN BOX OF DOMINOES',\n",
              "       'RUSTIC  SEVENTEEN DRAWER SIDEBOARD',\n",
              "       'PARTY CONES CARNIVAL ASSORTED', 'PARTY CONES CANDY ASSORTED',\n",
              "       'PICNIC BASKET WICKER SMALL', 'STAR DECORATION PAINTED ZINC ',\n",
              "       'RETROSPOT LAMP', 'FANCY FONT BIRTHDAY CARD, ',\n",
              "       'HAND WARMER SCOTTY DOG DESIGN', 'HAND WARMER OWL DESIGN',\n",
              "       'HAND WARMER RED RETROSPOT', 'DOG BOWL CHASING BALL DESIGN',\n",
              "       'CLOTHES PEGS RETROSPOT PACK 24 ',\n",
              "       'HAND OVER THE CHOCOLATE   SIGN ', 'TRAVEL SEWING KIT',\n",
              "       'BLACK HEART CARD HOLDER', 'SMALL GLASS HEART TRINKET POT',\n",
              "       'ALARM CLOCK BAKELIKE IVORY', 'ALARM CLOCK BAKELIKE ORANGE',\n",
              "       'HAND WARMER BIRD DESIGN', 'IVORY EMBROIDERED QUILT ',\n",
              "       'SET OF 3 BLACK FLYING DUCKS', 'RED RETROSPOT MUG',\n",
              "       'BABUSHKA LIGHTS STRING OF 10', 'DOORMAT FAIRY CAKE',\n",
              "       'STRAWBERRY CERAMIC TRINKET BOX', 'PINK DOUGHNUT TRINKET POT ',\n",
              "       'SILK PURSE BABUSHKA PINK', 'HOT WATER BOTTLE I AM SO POORLY',\n",
              "       'CHOCOLATE HOT WATER BOTTLE', 'WHITE SKULL HOT WATER BOTTLE ',\n",
              "       'SCOTTIE DOG HOT WATER BOTTLE', 'BIRD HOUSE HOT WATER BOTTLE'],\n",
              "      dtype=object)"
            ]
          },
          "metadata": {
            "tags": []
          },
          "execution_count": 76
        }
      ]
    },
    {
      "cell_type": "code",
      "metadata": {
        "id": "9OrXaBtW1_qf",
        "colab_type": "code",
        "colab": {
          "base_uri": "https://localhost:8080/",
          "height": 884
        },
        "outputId": "1990da33-690d-44e4-c254-045c3513a547"
      },
      "source": [
        "data['Description'].value_counts()[:50]"
      ],
      "execution_count": 65,
      "outputs": [
        {
          "output_type": "execute_result",
          "data": {
            "text/plain": [
              "WHITE HANGING HEART T-LIGHT HOLDER     2369\n",
              "REGENCY CAKESTAND 3 TIER               2200\n",
              "JUMBO BAG RED RETROSPOT                2159\n",
              "PARTY BUNTING                          1727\n",
              "LUNCH BAG RED RETROSPOT                1638\n",
              "ASSORTED COLOUR BIRD ORNAMENT          1501\n",
              "SET OF 3 CAKE TINS PANTRY DESIGN       1473\n",
              "Others                                 1454\n",
              "PACK OF 72 RETROSPOT CAKE CASES        1385\n",
              "LUNCH BAG  BLACK SKULL.                1350\n",
              "NATURAL SLATE HEART CHALKBOARD         1280\n",
              "POSTAGE                                1252\n",
              "JUMBO BAG PINK POLKADOT                1251\n",
              "HEART OF WICKER SMALL                  1237\n",
              "JAM MAKING SET WITH JARS               1229\n",
              "JUMBO STORAGE BAG SUKI                 1214\n",
              "PAPER CHAIN KIT 50'S CHRISTMAS         1210\n",
              "JUMBO SHOPPER VINTAGE RED PAISLEY      1202\n",
              "LUNCH BAG CARS BLUE                    1197\n",
              "LUNCH BAG SPACEBOY DESIGN              1192\n",
              "JAM MAKING SET PRINTED                 1182\n",
              "RECIPE BOX PANTRY YELLOW DESIGN        1180\n",
              "SPOTTY BUNTING                         1172\n",
              "LUNCH BAG SUKI DESIGN                  1139\n",
              "ROSES REGENCY TEACUP AND SAUCER        1138\n",
              "LUNCH BAG PINK POLKADOT                1137\n",
              "WOODEN PICTURE FRAME WHITE FINISH      1129\n",
              "SET OF 4 PANTRY JELLY MOULDS           1111\n",
              "ALARM CLOCK BAKELIKE RED               1107\n",
              "GREEN REGENCY TEACUP AND SAUCER        1085\n",
              "LUNCH BAG APPLE DESIGN                 1084\n",
              "VICTORIAN GLASS HANGING T-LIGHT        1072\n",
              "RED RETROSPOT CHARLOTTE BAG            1068\n",
              "LUNCH BAG WOODLAND                     1061\n",
              "RABBIT NIGHT LIGHT                     1051\n",
              "ALARM CLOCK BAKELIKE GREEN             1024\n",
              "SET/20 RED RETROSPOT PAPER NAPKINS     1015\n",
              "JUMBO BAG APPLES                       1009\n",
              "WOODEN FRAME ANTIQUE WHITE              999\n",
              "RETROSPOT TEA SET CERAMIC 11 PC         988\n",
              "6 RIBBONS RUSTIC CHARM                  986\n",
              "BAKING SET 9 PIECE RETROSPOT            974\n",
              "REX CASH+CARRY JUMBO SHOPPER            967\n",
              "HEART OF WICKER LARGE                   961\n",
              "JUMBO  BAG BAROQUE BLACK WHITE          960\n",
              "VINTAGE SNAP CARDS                      944\n",
              "GARDENERS KNEELING PAD KEEP CALM        937\n",
              "SET/5 RED RETROSPOT LID GLASS BOWLS     936\n",
              "JUMBO BAG ALPHABET                      930\n",
              "SPACEBOY LUNCH BOX                      924\n",
              "Name: Description, dtype: int64"
            ]
          },
          "metadata": {
            "tags": []
          },
          "execution_count": 65
        }
      ]
    },
    {
      "cell_type": "code",
      "metadata": {
        "id": "IEqRpnjH1_nD",
        "colab_type": "code",
        "colab": {
          "base_uri": "https://localhost:8080/",
          "height": 442
        },
        "outputId": "c1ccece7-e7ed-492b-cbb8-1d0a649c9798"
      },
      "source": [
        "data['Description'].value_counts()[4200:]"
      ],
      "execution_count": 74,
      "outputs": [
        {
          "output_type": "execute_result",
          "data": {
            "text/plain": [
              "on cargo order                         1\n",
              "wrongly coded 23343                    1\n",
              "FBA                                    1\n",
              "sold as set/6 by dotcom                1\n",
              "CAKE STAND LACE WHITE                  1\n",
              "GIRLY PINK TOOL SET                    1\n",
              "OCEAN SCENT CANDLE JEWELLED DRAWER     1\n",
              "CREAM SWEETHEART TRAYS                 1\n",
              "???                                    1\n",
              "wrongly coded-23343                    1\n",
              "TEA TIME CAKE STAND IN GIFT BOX        1\n",
              "missing?                               1\n",
              "WHITE CHERRY LIGHTS                    1\n",
              "SET/6 IVORY BIRD T-LIGHT CANDLES       1\n",
              "PINK BOUDOIR T-LIGHT HOLDER            1\n",
              "S/4 BLACK DISCO PARTITION PANEL        1\n",
              "PINK BERTIE MOBILE PHONE CHARM         1\n",
              "WOOLLY HAT SOCK GLOVE ADVENT STRING    1\n",
              "PORCELAIN HANGING BELL SMALL           1\n",
              "Sold as 1 on dotcom                    1\n",
              "mystery! Only ever imported 1800       1\n",
              "TRAVEL CARD WALLET DOTCOMGIFTSHOP      1\n",
              "HEAVENS SCENT FRAGRANCE OILS ASSTD     1\n",
              "Lighthouse Trading zero invc incorr    1\n",
              "Name: Description, dtype: int64"
            ]
          },
          "metadata": {
            "tags": []
          },
          "execution_count": 74
        }
      ]
    },
    {
      "cell_type": "code",
      "metadata": {
        "id": "4TdsGo2T1_gn",
        "colab_type": "code",
        "colab": {
          "base_uri": "https://localhost:8080/",
          "height": 238
        },
        "outputId": "a554ba86-e9fd-4250-b3bf-004565f47e1b"
      },
      "source": [
        "highquant_product=data.groupby('Description')['Quantity'].sum().sort_values(ascending=False)\n",
        "print(highquant_product)"
      ],
      "execution_count": 85,
      "outputs": [
        {
          "output_type": "stream",
          "text": [
            "Description\n",
            "WORLD WAR 2 GLIDERS ASSTD DESIGNS    53847\n",
            "JUMBO BAG RED RETROSPOT              47363\n",
            "ASSORTED COLOUR BIRD ORNAMENT        36381\n",
            "POPCORN HOLDER                       36334\n",
            "PACK OF 72 RETROSPOT CAKE CASES      36039\n",
            "                                     ...  \n",
            "Printing smudges/thrown away         -9058\n",
            "check                               -12030\n",
            "Others                              -13609\n",
            "Unsaleable, destroyed.              -15644\n",
            "printing smudges/thrown away        -19200\n",
            "Name: Quantity, Length: 4224, dtype: int64\n"
          ],
          "name": "stdout"
        }
      ]
    },
    {
      "cell_type": "code",
      "metadata": {
        "id": "8sXycO6E1_c6",
        "colab_type": "code",
        "colab": {
          "base_uri": "https://localhost:8080/",
          "height": 238
        },
        "outputId": "c15cd96b-9765-4c61-91f7-369c0b46d8de"
      },
      "source": [
        "highprice_product=data.groupby('Description')['UnitPrice'].sum().sort_values(ascending=False)\n",
        "print(highprice_product)"
      ],
      "execution_count": 86,
      "outputs": [
        {
          "output_type": "stream",
          "text": [
            "Description\n",
            "AMAZON FEE                  249042.68\n",
            "Manual                      214450.96\n",
            "DOTCOM POSTAGE              206252.06\n",
            "POSTAGE                      46388.47\n",
            "REGENCY CAKESTAND 3 TIER     30360.61\n",
            "                              ...    \n",
            "barcode problem                  0.00\n",
            "broken                           0.00\n",
            "came coded as 20713              0.00\n",
            "can't find                       0.00\n",
            "Adjust bad debt             -11062.06\n",
            "Name: UnitPrice, Length: 4224, dtype: float64\n"
          ],
          "name": "stdout"
        }
      ]
    },
    {
      "cell_type": "code",
      "metadata": {
        "id": "-AnyA54J1_Zc",
        "colab_type": "code",
        "colab": {}
      },
      "source": [
        ""
      ],
      "execution_count": 0,
      "outputs": []
    },
    {
      "cell_type": "code",
      "metadata": {
        "id": "oUFtGK7k1_WF",
        "colab_type": "code",
        "colab": {}
      },
      "source": [
        ""
      ],
      "execution_count": 0,
      "outputs": []
    },
    {
      "cell_type": "code",
      "metadata": {
        "id": "56h7Pxwq1_Sd",
        "colab_type": "code",
        "colab": {}
      },
      "source": [
        ""
      ],
      "execution_count": 0,
      "outputs": []
    },
    {
      "cell_type": "code",
      "metadata": {
        "id": "R4_8Q1XM1_O7",
        "colab_type": "code",
        "colab": {}
      },
      "source": [
        ""
      ],
      "execution_count": 0,
      "outputs": []
    },
    {
      "cell_type": "code",
      "metadata": {
        "id": "afaTUazp1_MK",
        "colab_type": "code",
        "colab": {}
      },
      "source": [
        ""
      ],
      "execution_count": 0,
      "outputs": []
    },
    {
      "cell_type": "code",
      "metadata": {
        "id": "Qhpjbvm81_IH",
        "colab_type": "code",
        "colab": {}
      },
      "source": [
        ""
      ],
      "execution_count": 0,
      "outputs": []
    },
    {
      "cell_type": "code",
      "metadata": {
        "id": "GfCfkKG01_Er",
        "colab_type": "code",
        "colab": {}
      },
      "source": [
        ""
      ],
      "execution_count": 0,
      "outputs": []
    },
    {
      "cell_type": "code",
      "metadata": {
        "id": "xNjC3S7M1_BH",
        "colab_type": "code",
        "colab": {}
      },
      "source": [
        ""
      ],
      "execution_count": 0,
      "outputs": []
    },
    {
      "cell_type": "code",
      "metadata": {
        "id": "XuK5zFQu1-9X",
        "colab_type": "code",
        "colab": {}
      },
      "source": [
        ""
      ],
      "execution_count": 0,
      "outputs": []
    },
    {
      "cell_type": "code",
      "metadata": {
        "id": "-6yn459j1-5j",
        "colab_type": "code",
        "colab": {}
      },
      "source": [
        ""
      ],
      "execution_count": 0,
      "outputs": []
    },
    {
      "cell_type": "code",
      "metadata": {
        "id": "2wCAfOjP1-yH",
        "colab_type": "code",
        "colab": {}
      },
      "source": [
        ""
      ],
      "execution_count": 0,
      "outputs": []
    },
    {
      "cell_type": "code",
      "metadata": {
        "id": "FdTwD5N61-sf",
        "colab_type": "code",
        "colab": {}
      },
      "source": [
        ""
      ],
      "execution_count": 0,
      "outputs": []
    },
    {
      "cell_type": "code",
      "metadata": {
        "id": "-UNtSl8N1-mS",
        "colab_type": "code",
        "colab": {}
      },
      "source": [
        ""
      ],
      "execution_count": 0,
      "outputs": []
    },
    {
      "cell_type": "code",
      "metadata": {
        "id": "KaZFfHAV1-hH",
        "colab_type": "code",
        "colab": {}
      },
      "source": [
        ""
      ],
      "execution_count": 0,
      "outputs": []
    },
    {
      "cell_type": "code",
      "metadata": {
        "id": "K-FRfVWg1-by",
        "colab_type": "code",
        "colab": {}
      },
      "source": [
        ""
      ],
      "execution_count": 0,
      "outputs": []
    }
  ]
}